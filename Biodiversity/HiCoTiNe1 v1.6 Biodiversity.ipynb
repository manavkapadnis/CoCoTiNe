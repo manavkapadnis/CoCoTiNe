{
 "cells": [
  {
   "cell_type": "markdown",
   "metadata": {},
   "source": [
    "# Variants-Experiment 1.6\n",
    "## Summed hidden representations and concatenated output logits.\n",
    "## Mode. Compute classifications of all tiny networks, in all HiCo layers, and take the mode as the final classification."
   ]
  },
  {
   "cell_type": "code",
   "execution_count": 1,
   "metadata": {
    "execution": {
     "iopub.execute_input": "2021-07-12T18:19:31.582135Z",
     "iopub.status.busy": "2021-07-12T18:19:31.581849Z",
     "iopub.status.idle": "2021-07-12T18:19:36.471890Z",
     "shell.execute_reply": "2021-07-12T18:19:36.471070Z",
     "shell.execute_reply.started": "2021-07-12T18:19:31.582067Z"
    }
   },
   "outputs": [],
   "source": [
    "import tensorflow as tf\n",
    "from tensorflow import keras\n",
    "from keras.models import Sequential\n",
    "from keras.layers import Dense, Conv2D, Flatten, MaxPooling2D\n",
    "from keras.utils import to_categorical\n",
    "import matplotlib.pyplot as plt\n",
    "import numpy as np\n",
    "from os import listdir\n",
    "from os.path import join\n",
    "import cv2\n",
    "import pandas as pd\n",
    "import os\n",
    "import random as rn\n",
    "from scipy import stats\n",
    "from sklearn.preprocessing import OneHotEncoder\n",
    "from sklearn.model_selection import train_test_split\n",
    "from sklearn.metrics import accuracy_score\n",
    "import pickle\n",
    "from keras import backend as K"
   ]
  },
  {
   "cell_type": "code",
   "execution_count": 2,
   "metadata": {
    "execution": {
     "iopub.execute_input": "2021-07-12T18:19:36.473674Z",
     "iopub.status.busy": "2021-07-12T18:19:36.473321Z",
     "iopub.status.idle": "2021-07-12T18:19:36.477488Z",
     "shell.execute_reply": "2021-07-12T18:19:36.476725Z",
     "shell.execute_reply.started": "2021-07-12T18:19:36.473636Z"
    }
   },
   "outputs": [],
   "source": [
    "SEED = 321\n",
    "rn.seed(SEED)\n",
    "np.random.seed(SEED)\n",
    "tf.random.set_seed(SEED)"
   ]
  },
  {
   "cell_type": "code",
   "execution_count": 3,
   "metadata": {
    "execution": {
     "iopub.execute_input": "2021-07-12T18:19:36.479966Z",
     "iopub.status.busy": "2021-07-12T18:19:36.479414Z",
     "iopub.status.idle": "2021-07-12T18:19:36.490548Z",
     "shell.execute_reply": "2021-07-12T18:19:36.489761Z",
     "shell.execute_reply.started": "2021-07-12T18:19:36.479918Z"
    }
   },
   "outputs": [],
   "source": [
    "SUB_REGION_SCALE = 14\n",
    "NUM_HICO_LAYER = 5\n",
    "NUM_TN = [10, 8, 6, 4, 2]\n",
    "NUM_CONNECTION = [0, 5, 4, 3, 2]\n",
    "\n",
    "#dataset specific parameters\n",
    "NUM_CLASS = 5"
   ]
  },
  {
   "cell_type": "markdown",
   "metadata": {},
   "source": [
    "## Data Pre-Processing"
   ]
  },
  {
   "cell_type": "code",
   "execution_count": 4,
   "metadata": {
    "execution": {
     "iopub.execute_input": "2021-07-12T18:19:36.492515Z",
     "iopub.status.busy": "2021-07-12T18:19:36.492061Z",
     "iopub.status.idle": "2021-07-12T18:19:38.295811Z",
     "shell.execute_reply": "2021-07-12T18:19:38.294937Z",
     "shell.execute_reply.started": "2021-07-12T18:19:36.492478Z"
    }
   },
   "outputs": [],
   "source": [
    "with open('../input/hicotine1-layer1-biodiversity/fyp/CIFAR-10.pickle', 'rb') as f:\n",
    "    X_train_cropped_list, y_train_one_hot, X_val_cropped_list, y_val_one_hot, X_test_cropped_list, y_test_one_hot, coordinate_list, scale_list = pickle.load(f)"
   ]
  },
  {
   "cell_type": "markdown",
   "metadata": {},
   "source": [
    "## HiCo Layer 1"
   ]
  },
  {
   "cell_type": "code",
   "execution_count": 5,
   "metadata": {
    "execution": {
     "iopub.execute_input": "2021-07-12T18:19:38.297509Z",
     "iopub.status.busy": "2021-07-12T18:19:38.297132Z",
     "iopub.status.idle": "2021-07-12T18:19:40.462248Z",
     "shell.execute_reply": "2021-07-12T18:19:40.461417Z",
     "shell.execute_reply.started": "2021-07-12T18:19:38.297463Z"
    }
   },
   "outputs": [],
   "source": [
    "#build ANN model\n",
    "ensemble = []\n",
    "for i in range(NUM_TN[0]):\n",
    "  model = Sequential()\n",
    "  model.add(Dense(64, activation='relu', input_dim=SUB_REGION_SCALE*SUB_REGION_SCALE*3))\n",
    "  model.add(Dense(64, activation='relu'))\n",
    "  model.add(Dense(NUM_CLASS, activation = 'softmax'))\n",
    "  model.compile(optimizer='adam', loss='categorical_crossentropy', metrics=['accuracy'])\n",
    "  ensemble.append((model, i, coordinate_list[i], scale_list[i]))"
   ]
  },
  {
   "cell_type": "code",
   "execution_count": 6,
   "metadata": {
    "execution": {
     "iopub.execute_input": "2021-07-12T18:19:40.463799Z",
     "iopub.status.busy": "2021-07-12T18:19:40.463475Z",
     "iopub.status.idle": "2021-07-12T18:19:40.637127Z",
     "shell.execute_reply": "2021-07-12T18:19:40.636361Z",
     "shell.execute_reply.started": "2021-07-12T18:19:40.463766Z"
    }
   },
   "outputs": [],
   "source": [
    "for i in range(NUM_TN[0]):\n",
    "  ensemble[i][0].load_weights('../input/hicotine1-layer1-biodiversity/fyp/CIFAR-10_' + str(i) + '.h5')"
   ]
  },
  {
   "cell_type": "code",
   "execution_count": 7,
   "metadata": {
    "execution": {
     "iopub.execute_input": "2021-07-12T18:19:40.640169Z",
     "iopub.status.busy": "2021-07-12T18:19:40.639893Z",
     "iopub.status.idle": "2021-07-12T18:19:40.645872Z",
     "shell.execute_reply": "2021-07-12T18:19:40.645103Z",
     "shell.execute_reply.started": "2021-07-12T18:19:40.640131Z"
    }
   },
   "outputs": [],
   "source": [
    "hico_layers = []\n",
    "hico_layers.append(ensemble)"
   ]
  },
  {
   "cell_type": "code",
   "execution_count": 8,
   "metadata": {
    "execution": {
     "iopub.execute_input": "2021-07-12T18:19:40.648942Z",
     "iopub.status.busy": "2021-07-12T18:19:40.648679Z",
     "iopub.status.idle": "2021-07-12T18:19:40.654614Z",
     "shell.execute_reply": "2021-07-12T18:19:40.653804Z",
     "shell.execute_reply.started": "2021-07-12T18:19:40.648906Z"
    }
   },
   "outputs": [],
   "source": [
    "del hico_layers[1:]"
   ]
  },
  {
   "cell_type": "markdown",
   "metadata": {},
   "source": [
    "## HiCo Layer 2+"
   ]
  },
  {
   "cell_type": "code",
   "execution_count": 9,
   "metadata": {
    "execution": {
     "iopub.execute_input": "2021-07-12T18:20:02.009646Z",
     "iopub.status.busy": "2021-07-12T18:20:02.009325Z",
     "iopub.status.idle": "2021-07-12T18:20:02.167522Z",
     "shell.execute_reply": "2021-07-12T18:20:02.166714Z",
     "shell.execute_reply.started": "2021-07-12T18:20:02.009617Z"
    }
   },
   "outputs": [],
   "source": [
    "# Function to get input of layer i-1\n",
    "def get_previous_layer_input(hico_layers, layer, tn, train_image):\n",
    "  input_hr = []\n",
    "  input_ol = []\n",
    "    \n",
    "  if layer == 0:\n",
    "    previous_layer_input = train_image[tn[1]]\n",
    "    return previous_layer_input\n",
    "\n",
    "  elif layer > 0:\n",
    "    for i in range(NUM_CONNECTION[layer]):\n",
    "      get_input = (K.function(hico_layers[layer-1][tn[1][i]][0].layers[0].input, hico_layers[layer-1][tn[1][i]][0].layers[1].output))\n",
    "      input_hr.append(get_input(get_previous_layer_input(hico_layers, layer-1, hico_layers[layer-1][tn[1][i]], train_image)))\n",
    "      \n",
    "    input_hr = np.array(input_hr)\n",
    "    input_hr = np.sum(input_hr, axis=0)\n",
    "\n",
    "    for i in range(NUM_CONNECTION[layer]):\n",
    "      get_input = (K.function(hico_layers[layer-1][tn[1][i]][0].layers[0].input, hico_layers[layer-1][tn[1][i]][0].layers[2].output))\n",
    "      input_ol.append(get_input(get_previous_layer_input(hico_layers, layer-1, hico_layers[layer-1][tn[1][i]], train_image)))\n",
    "\n",
    "    input_ol = np.array(input_ol)\n",
    "    input_ol = np.concatenate(input_ol, axis=1)\n",
    "\n",
    "    input = np.concatenate((input_hr, input_ol), axis=1)\n",
    "    \n",
    "    previous_layer_input = input\n",
    "    return previous_layer_input"
   ]
  },
  {
   "cell_type": "code",
   "execution_count": 10,
   "metadata": {
    "execution": {
     "iopub.execute_input": "2021-07-12T18:20:09.277792Z",
     "iopub.status.busy": "2021-07-12T18:20:09.277465Z",
     "iopub.status.idle": "2021-07-12T18:21:42.428197Z",
     "shell.execute_reply": "2021-07-12T18:21:42.427397Z",
     "shell.execute_reply.started": "2021-07-12T18:20:09.277762Z"
    }
   },
   "outputs": [
    {
     "name": "stdout",
     "output_type": "stream",
     "text": [
      "Layer 1\n",
      "HICO LENGTH\n",
      "2\n",
      "Model 0\n",
      "Epoch 1/5\n",
      "28/28 [==============================] - 1s 21ms/step - loss: 2.0537 - accuracy: 0.2445 - val_loss: 1.4125 - val_accuracy: 0.3533\n",
      "Epoch 2/5\n",
      "28/28 [==============================] - 0s 4ms/step - loss: 1.3525 - accuracy: 0.3911 - val_loss: 1.3065 - val_accuracy: 0.4273\n",
      "Epoch 3/5\n",
      "28/28 [==============================] - 0s 3ms/step - loss: 1.2967 - accuracy: 0.4403 - val_loss: 1.2956 - val_accuracy: 0.4296\n",
      "Epoch 4/5\n",
      "28/28 [==============================] - 0s 3ms/step - loss: 1.2551 - accuracy: 0.4547 - val_loss: 1.2734 - val_accuracy: 0.4503\n",
      "Epoch 5/5\n",
      "28/28 [==============================] - 0s 4ms/step - loss: 1.2118 - accuracy: 0.4861 - val_loss: 1.2758 - val_accuracy: 0.4411\n",
      "Model 1\n",
      "Epoch 1/5\n",
      "28/28 [==============================] - 1s 8ms/step - loss: 1.5588 - accuracy: 0.2949 - val_loss: 1.3274 - val_accuracy: 0.3880\n",
      "Epoch 2/5\n",
      "28/28 [==============================] - 0s 4ms/step - loss: 1.2912 - accuracy: 0.4106 - val_loss: 1.2852 - val_accuracy: 0.4157\n",
      "Epoch 3/5\n",
      "28/28 [==============================] - 0s 4ms/step - loss: 1.2809 - accuracy: 0.4479 - val_loss: 1.2766 - val_accuracy: 0.4134\n",
      "Epoch 4/5\n",
      "28/28 [==============================] - 0s 3ms/step - loss: 1.2438 - accuracy: 0.4686 - val_loss: 1.2743 - val_accuracy: 0.4134\n",
      "Epoch 5/5\n",
      "28/28 [==============================] - 0s 3ms/step - loss: 1.2072 - accuracy: 0.4660 - val_loss: 1.2724 - val_accuracy: 0.4319\n",
      "Model 2\n",
      "Epoch 1/5\n",
      "28/28 [==============================] - 1s 8ms/step - loss: 1.6588 - accuracy: 0.3349 - val_loss: 1.3495 - val_accuracy: 0.3788\n",
      "Epoch 2/5\n",
      "28/28 [==============================] - 0s 4ms/step - loss: 1.2595 - accuracy: 0.4341 - val_loss: 1.3089 - val_accuracy: 0.4319\n",
      "Epoch 3/5\n",
      "28/28 [==============================] - 0s 4ms/step - loss: 1.2621 - accuracy: 0.4559 - val_loss: 1.3225 - val_accuracy: 0.4157\n",
      "Epoch 4/5\n",
      "28/28 [==============================] - 0s 4ms/step - loss: 1.2509 - accuracy: 0.4583 - val_loss: 1.2905 - val_accuracy: 0.4550\n",
      "Epoch 5/5\n",
      "28/28 [==============================] - 0s 4ms/step - loss: 1.1948 - accuracy: 0.4805 - val_loss: 1.2916 - val_accuracy: 0.4457\n",
      "Model 3\n",
      "Epoch 1/5\n",
      "28/28 [==============================] - 1s 9ms/step - loss: 1.7782 - accuracy: 0.2608 - val_loss: 1.3958 - val_accuracy: 0.3811\n",
      "Epoch 2/5\n",
      "28/28 [==============================] - 0s 4ms/step - loss: 1.3382 - accuracy: 0.4042 - val_loss: 1.3156 - val_accuracy: 0.4157\n",
      "Epoch 3/5\n",
      "28/28 [==============================] - 0s 4ms/step - loss: 1.3023 - accuracy: 0.4323 - val_loss: 1.3103 - val_accuracy: 0.4157\n",
      "Epoch 4/5\n",
      "28/28 [==============================] - 0s 3ms/step - loss: 1.2521 - accuracy: 0.4532 - val_loss: 1.2967 - val_accuracy: 0.4342\n",
      "Epoch 5/5\n",
      "28/28 [==============================] - 0s 3ms/step - loss: 1.2345 - accuracy: 0.4576 - val_loss: 1.2973 - val_accuracy: 0.4226\n",
      "Model 4\n",
      "Epoch 1/5\n",
      "28/28 [==============================] - 1s 8ms/step - loss: 1.6576 - accuracy: 0.2576 - val_loss: 1.3266 - val_accuracy: 0.4134\n",
      "Epoch 2/5\n",
      "28/28 [==============================] - 0s 4ms/step - loss: 1.2869 - accuracy: 0.4245 - val_loss: 1.2952 - val_accuracy: 0.4157\n",
      "Epoch 3/5\n",
      "28/28 [==============================] - 0s 3ms/step - loss: 1.2624 - accuracy: 0.4474 - val_loss: 1.2935 - val_accuracy: 0.4503\n",
      "Epoch 4/5\n",
      "28/28 [==============================] - 0s 4ms/step - loss: 1.2295 - accuracy: 0.4643 - val_loss: 1.2810 - val_accuracy: 0.4619\n",
      "Epoch 5/5\n",
      "28/28 [==============================] - 0s 4ms/step - loss: 1.2009 - accuracy: 0.4756 - val_loss: 1.2900 - val_accuracy: 0.4457\n",
      "Model 5\n",
      "Epoch 1/5\n",
      "28/28 [==============================] - 1s 9ms/step - loss: 2.2109 - accuracy: 0.2747 - val_loss: 1.3661 - val_accuracy: 0.4134\n",
      "Epoch 2/5\n",
      "28/28 [==============================] - 0s 4ms/step - loss: 1.3245 - accuracy: 0.4282 - val_loss: 1.3249 - val_accuracy: 0.4249\n",
      "Epoch 3/5\n",
      "28/28 [==============================] - 0s 3ms/step - loss: 1.2995 - accuracy: 0.4194 - val_loss: 1.3181 - val_accuracy: 0.4180\n",
      "Epoch 4/5\n",
      "28/28 [==============================] - 0s 4ms/step - loss: 1.2629 - accuracy: 0.4453 - val_loss: 1.2856 - val_accuracy: 0.4111\n",
      "Epoch 5/5\n",
      "28/28 [==============================] - 0s 3ms/step - loss: 1.2179 - accuracy: 0.4620 - val_loss: 1.2925 - val_accuracy: 0.4319\n",
      "Model 6\n",
      "Epoch 1/5\n",
      "28/28 [==============================] - 1s 8ms/step - loss: 1.5851 - accuracy: 0.3305 - val_loss: 1.3358 - val_accuracy: 0.3880\n",
      "Epoch 2/5\n",
      "28/28 [==============================] - 0s 4ms/step - loss: 1.2550 - accuracy: 0.4446 - val_loss: 1.3083 - val_accuracy: 0.4203\n",
      "Epoch 3/5\n",
      "28/28 [==============================] - 0s 4ms/step - loss: 1.2677 - accuracy: 0.4500 - val_loss: 1.3295 - val_accuracy: 0.4088\n",
      "Epoch 4/5\n",
      "28/28 [==============================] - 0s 4ms/step - loss: 1.2366 - accuracy: 0.4562 - val_loss: 1.2896 - val_accuracy: 0.4249\n",
      "Epoch 5/5\n",
      "28/28 [==============================] - 0s 3ms/step - loss: 1.1934 - accuracy: 0.4715 - val_loss: 1.2945 - val_accuracy: 0.4365\n",
      "Model 7\n",
      "Epoch 1/5\n",
      "28/28 [==============================] - 1s 8ms/step - loss: 1.4693 - accuracy: 0.3546 - val_loss: 1.3186 - val_accuracy: 0.4180\n",
      "Epoch 2/5\n",
      "28/28 [==============================] - 0s 4ms/step - loss: 1.2657 - accuracy: 0.4366 - val_loss: 1.2851 - val_accuracy: 0.4665\n",
      "Epoch 3/5\n",
      "28/28 [==============================] - 0s 3ms/step - loss: 1.2769 - accuracy: 0.4654 - val_loss: 1.2796 - val_accuracy: 0.4619\n",
      "Epoch 4/5\n",
      "28/28 [==============================] - 0s 4ms/step - loss: 1.2295 - accuracy: 0.4648 - val_loss: 1.2699 - val_accuracy: 0.4411\n",
      "Epoch 5/5\n",
      "28/28 [==============================] - 0s 3ms/step - loss: 1.2316 - accuracy: 0.4657 - val_loss: 1.2575 - val_accuracy: 0.4642\n",
      "Layer 2\n",
      "HICO LENGTH\n",
      "3\n",
      "Model 0\n",
      "Epoch 1/5\n",
      "28/28 [==============================] - 1s 9ms/step - loss: 2.3520 - accuracy: 0.2429 - val_loss: 1.3762 - val_accuracy: 0.3834\n",
      "Epoch 2/5\n",
      "28/28 [==============================] - 0s 4ms/step - loss: 1.3133 - accuracy: 0.4237 - val_loss: 1.2765 - val_accuracy: 0.3995\n",
      "Epoch 3/5\n",
      "28/28 [==============================] - 0s 4ms/step - loss: 1.2721 - accuracy: 0.4308 - val_loss: 1.2711 - val_accuracy: 0.4134\n",
      "Epoch 4/5\n",
      "28/28 [==============================] - 0s 4ms/step - loss: 1.2381 - accuracy: 0.4514 - val_loss: 1.2593 - val_accuracy: 0.4550\n",
      "Epoch 5/5\n",
      "28/28 [==============================] - 0s 4ms/step - loss: 1.1996 - accuracy: 0.4744 - val_loss: 1.2639 - val_accuracy: 0.4527\n",
      "Model 1\n",
      "Epoch 1/5\n",
      "28/28 [==============================] - 1s 9ms/step - loss: 1.5167 - accuracy: 0.3455 - val_loss: 1.3354 - val_accuracy: 0.3972\n",
      "Epoch 2/5\n",
      "28/28 [==============================] - 0s 4ms/step - loss: 1.2423 - accuracy: 0.4496 - val_loss: 1.2939 - val_accuracy: 0.4411\n",
      "Epoch 3/5\n",
      "28/28 [==============================] - 0s 4ms/step - loss: 1.2481 - accuracy: 0.4741 - val_loss: 1.2885 - val_accuracy: 0.4665\n",
      "Epoch 4/5\n",
      "28/28 [==============================] - 0s 4ms/step - loss: 1.2278 - accuracy: 0.4742 - val_loss: 1.2670 - val_accuracy: 0.4804\n",
      "Epoch 5/5\n",
      "28/28 [==============================] - 0s 4ms/step - loss: 1.1923 - accuracy: 0.4796 - val_loss: 1.2784 - val_accuracy: 0.4319\n",
      "Model 2\n",
      "Epoch 1/5\n",
      "28/28 [==============================] - 1s 9ms/step - loss: 1.4805 - accuracy: 0.3666 - val_loss: 1.3314 - val_accuracy: 0.3880\n",
      "Epoch 2/5\n",
      "28/28 [==============================] - 0s 4ms/step - loss: 1.2418 - accuracy: 0.4552 - val_loss: 1.2972 - val_accuracy: 0.4527\n",
      "Epoch 3/5\n",
      "28/28 [==============================] - 0s 4ms/step - loss: 1.2484 - accuracy: 0.4581 - val_loss: 1.2978 - val_accuracy: 0.4226\n",
      "Epoch 4/5\n",
      "28/28 [==============================] - 0s 4ms/step - loss: 1.2268 - accuracy: 0.4823 - val_loss: 1.2818 - val_accuracy: 0.4388\n",
      "Epoch 5/5\n",
      "28/28 [==============================] - 0s 3ms/step - loss: 1.1937 - accuracy: 0.4712 - val_loss: 1.2884 - val_accuracy: 0.4088\n",
      "Model 3\n",
      "Epoch 1/5\n",
      "28/28 [==============================] - 1s 8ms/step - loss: 1.6657 - accuracy: 0.3328 - val_loss: 1.3068 - val_accuracy: 0.4342\n",
      "Epoch 2/5\n",
      "28/28 [==============================] - 0s 4ms/step - loss: 1.2489 - accuracy: 0.4514 - val_loss: 1.2661 - val_accuracy: 0.4342\n",
      "Epoch 3/5\n",
      "28/28 [==============================] - 0s 3ms/step - loss: 1.2483 - accuracy: 0.4718 - val_loss: 1.2891 - val_accuracy: 0.4388\n",
      "Epoch 4/5\n",
      "28/28 [==============================] - 0s 4ms/step - loss: 1.2322 - accuracy: 0.4654 - val_loss: 1.2587 - val_accuracy: 0.4873\n",
      "Epoch 5/5\n",
      "28/28 [==============================] - 0s 3ms/step - loss: 1.1882 - accuracy: 0.4848 - val_loss: 1.2547 - val_accuracy: 0.4503\n",
      "Model 4\n",
      "Epoch 1/5\n",
      "28/28 [==============================] - 1s 8ms/step - loss: 1.9240 - accuracy: 0.2625 - val_loss: 1.3381 - val_accuracy: 0.4134\n",
      "Epoch 2/5\n",
      "28/28 [==============================] - 0s 4ms/step - loss: 1.2751 - accuracy: 0.4336 - val_loss: 1.2923 - val_accuracy: 0.4296\n",
      "Epoch 3/5\n",
      "28/28 [==============================] - 0s 4ms/step - loss: 1.2695 - accuracy: 0.4496 - val_loss: 1.2909 - val_accuracy: 0.4273\n",
      "Epoch 4/5\n",
      "28/28 [==============================] - 0s 3ms/step - loss: 1.2144 - accuracy: 0.4836 - val_loss: 1.2837 - val_accuracy: 0.4157\n",
      "Epoch 5/5\n",
      "28/28 [==============================] - 0s 6ms/step - loss: 1.1936 - accuracy: 0.4714 - val_loss: 1.2869 - val_accuracy: 0.4480\n",
      "Model 5\n",
      "Epoch 1/5\n",
      "28/28 [==============================] - 1s 12ms/step - loss: 1.7043 - accuracy: 0.2906 - val_loss: 1.3207 - val_accuracy: 0.4203\n",
      "Epoch 2/5\n",
      "28/28 [==============================] - 0s 5ms/step - loss: 1.2521 - accuracy: 0.4411 - val_loss: 1.3063 - val_accuracy: 0.4503\n",
      "Epoch 3/5\n",
      "28/28 [==============================] - 0s 3ms/step - loss: 1.2551 - accuracy: 0.4617 - val_loss: 1.3011 - val_accuracy: 0.4434\n",
      "Epoch 4/5\n",
      "28/28 [==============================] - 0s 3ms/step - loss: 1.2352 - accuracy: 0.4655 - val_loss: 1.2823 - val_accuracy: 0.4503\n",
      "Epoch 5/5\n",
      "28/28 [==============================] - 0s 3ms/step - loss: 1.2063 - accuracy: 0.4692 - val_loss: 1.2894 - val_accuracy: 0.4411\n",
      "Layer 3\n",
      "HICO LENGTH\n",
      "4\n",
      "Model 0\n",
      "Epoch 1/5\n",
      "28/28 [==============================] - 1s 8ms/step - loss: 1.6662 - accuracy: 0.3181 - val_loss: 1.3449 - val_accuracy: 0.3995\n",
      "Epoch 2/5\n",
      "28/28 [==============================] - 0s 4ms/step - loss: 1.2482 - accuracy: 0.4341 - val_loss: 1.2843 - val_accuracy: 0.4388\n",
      "Epoch 3/5\n",
      "28/28 [==============================] - 0s 4ms/step - loss: 1.2512 - accuracy: 0.4612 - val_loss: 1.2829 - val_accuracy: 0.4457\n",
      "Epoch 4/5\n",
      "28/28 [==============================] - 0s 4ms/step - loss: 1.2256 - accuracy: 0.4771 - val_loss: 1.2666 - val_accuracy: 0.4434\n",
      "Epoch 5/5\n",
      "28/28 [==============================] - 0s 5ms/step - loss: 1.1942 - accuracy: 0.4757 - val_loss: 1.2727 - val_accuracy: 0.4203\n",
      "Model 1\n",
      "Epoch 1/5\n",
      "28/28 [==============================] - 1s 8ms/step - loss: 1.9169 - accuracy: 0.2776 - val_loss: 1.3536 - val_accuracy: 0.3718\n",
      "Epoch 2/5\n",
      "28/28 [==============================] - 0s 4ms/step - loss: 1.2545 - accuracy: 0.4363 - val_loss: 1.2805 - val_accuracy: 0.4249\n",
      "Epoch 3/5\n",
      "28/28 [==============================] - 0s 4ms/step - loss: 1.2459 - accuracy: 0.4526 - val_loss: 1.2865 - val_accuracy: 0.4411\n",
      "Epoch 4/5\n",
      "28/28 [==============================] - 0s 4ms/step - loss: 1.2269 - accuracy: 0.4791 - val_loss: 1.2807 - val_accuracy: 0.4527\n",
      "Epoch 5/5\n",
      "28/28 [==============================] - 0s 3ms/step - loss: 1.1935 - accuracy: 0.4716 - val_loss: 1.2834 - val_accuracy: 0.4480\n",
      "Model 2\n",
      "Epoch 1/5\n",
      "28/28 [==============================] - 1s 8ms/step - loss: 1.8778 - accuracy: 0.3093 - val_loss: 1.3183 - val_accuracy: 0.4018\n",
      "Epoch 2/5\n",
      "28/28 [==============================] - 0s 4ms/step - loss: 1.2408 - accuracy: 0.4544 - val_loss: 1.2771 - val_accuracy: 0.4134\n",
      "Epoch 3/5\n",
      "28/28 [==============================] - 0s 3ms/step - loss: 1.2390 - accuracy: 0.4526 - val_loss: 1.2744 - val_accuracy: 0.4434\n",
      "Epoch 4/5\n",
      "28/28 [==============================] - 0s 4ms/step - loss: 1.2162 - accuracy: 0.4720 - val_loss: 1.2722 - val_accuracy: 0.4457\n",
      "Epoch 5/5\n",
      "28/28 [==============================] - 0s 3ms/step - loss: 1.1838 - accuracy: 0.4863 - val_loss: 1.2709 - val_accuracy: 0.4388\n",
      "Model 3\n",
      "Epoch 1/5\n",
      "28/28 [==============================] - 1s 8ms/step - loss: 1.7500 - accuracy: 0.2834 - val_loss: 1.3203 - val_accuracy: 0.4157\n",
      "Epoch 2/5\n",
      "28/28 [==============================] - 0s 3ms/step - loss: 1.2491 - accuracy: 0.4521 - val_loss: 1.2812 - val_accuracy: 0.4365\n",
      "Epoch 3/5\n",
      "28/28 [==============================] - 0s 3ms/step - loss: 1.2446 - accuracy: 0.4553 - val_loss: 1.2857 - val_accuracy: 0.4480\n",
      "Epoch 4/5\n",
      "28/28 [==============================] - 0s 4ms/step - loss: 1.2190 - accuracy: 0.4803 - val_loss: 1.2690 - val_accuracy: 0.4642\n",
      "Epoch 5/5\n",
      "28/28 [==============================] - 0s 3ms/step - loss: 1.1946 - accuracy: 0.4814 - val_loss: 1.2868 - val_accuracy: 0.4457\n",
      "Layer 4\n",
      "HICO LENGTH\n",
      "5\n",
      "Model 0\n",
      "Epoch 1/5\n",
      "28/28 [==============================] - 1s 8ms/step - loss: 1.6549 - accuracy: 0.2845 - val_loss: 1.3060 - val_accuracy: 0.4249\n",
      "Epoch 2/5\n",
      "28/28 [==============================] - 0s 4ms/step - loss: 1.2329 - accuracy: 0.4567 - val_loss: 1.2816 - val_accuracy: 0.4642\n",
      "Epoch 3/5\n",
      "28/28 [==============================] - 0s 3ms/step - loss: 1.2375 - accuracy: 0.4562 - val_loss: 1.2703 - val_accuracy: 0.4781\n",
      "Epoch 4/5\n",
      "28/28 [==============================] - 0s 3ms/step - loss: 1.2185 - accuracy: 0.4777 - val_loss: 1.2739 - val_accuracy: 0.4503\n",
      "Epoch 5/5\n",
      "28/28 [==============================] - 0s 3ms/step - loss: 1.1856 - accuracy: 0.4743 - val_loss: 1.2704 - val_accuracy: 0.4573\n",
      "Model 1\n",
      "Epoch 1/5\n",
      "28/28 [==============================] - 1s 8ms/step - loss: 1.5052 - accuracy: 0.3291 - val_loss: 1.3092 - val_accuracy: 0.4273\n",
      "Epoch 2/5\n",
      "28/28 [==============================] - 0s 4ms/step - loss: 1.2209 - accuracy: 0.4652 - val_loss: 1.2839 - val_accuracy: 0.4503\n",
      "Epoch 3/5\n",
      "28/28 [==============================] - 0s 3ms/step - loss: 1.2333 - accuracy: 0.4607 - val_loss: 1.2875 - val_accuracy: 0.4319\n",
      "Epoch 4/5\n",
      "28/28 [==============================] - 0s 3ms/step - loss: 1.2186 - accuracy: 0.4779 - val_loss: 1.2855 - val_accuracy: 0.4411\n",
      "Epoch 5/5\n",
      "28/28 [==============================] - 0s 3ms/step - loss: 1.1857 - accuracy: 0.4654 - val_loss: 1.2913 - val_accuracy: 0.4319\n"
     ]
    }
   ],
   "source": [
    "for i in range(1, NUM_HICO_LAYER):\n",
    "  print('Layer %d' %i)\n",
    "  ensemble = []\n",
    "  X_train_input_list = []\n",
    "  X_test_input_list = []\n",
    "\n",
    "  for j in range(NUM_TN[i]):\n",
    "    # Build model of HiCo layer i\n",
    "    connection = tuple(rn.sample(range(len(hico_layers[i-1])), k=NUM_CONNECTION[i]))\n",
    "    model = Sequential()\n",
    "    model.add(Dense(64, activation='relu', input_dim=64+NUM_CLASS*NUM_CONNECTION[i]))\n",
    "    model.add(Dense(64, activation='relu'))\n",
    "    model.add(Dense(NUM_CLASS, activation = 'softmax'))\n",
    "    model.compile(optimizer='adam', loss='categorical_crossentropy', metrics=['accuracy'])\n",
    "    ensemble.append((model, connection))\n",
    "  hico_layers.append(ensemble)\n",
    "  print('HICO LENGTH')\n",
    "  print(len(hico_layers))\n",
    "\n",
    "  for j in range(NUM_TN[i]):\n",
    "    # Get train hidden representation from HiCo layer i-1\n",
    "    X_train_input_hr = []\n",
    "    X_train_input_ol = []\n",
    "    for k in range(NUM_CONNECTION[i]):\n",
    "      get_input = (K.function(hico_layers[i-1][hico_layers[i][j][1][k]][0].layers[0].input, hico_layers[i-1][hico_layers[i][j][1][k]][0].layers[1].output))\n",
    "      X_train_input_hr.append(get_input(get_previous_layer_input(hico_layers, i-1, hico_layers[i-1][hico_layers[i][j][1][k]], X_train_cropped_list)))\n",
    "    X_train_input_hr = np.array(X_train_input_hr)\n",
    "    X_train_input_hr = np.sum(X_train_input_hr, axis=0)\n",
    "\n",
    "    for k in range(NUM_CONNECTION[i]):\n",
    "      get_input = (K.function(hico_layers[i-1][hico_layers[i][j][1][k]][0].layers[0].input, hico_layers[i-1][hico_layers[i][j][1][k]][0].layers[2].output))\n",
    "      X_train_input_ol.append(get_input(get_previous_layer_input(hico_layers, i-1, hico_layers[i-1][hico_layers[i][j][1][k]], X_train_cropped_list)))\n",
    "    X_train_input_ol = np.array(X_train_input_ol)\n",
    "    X_train_input_ol = np.concatenate(X_train_input_ol, axis=1)\n",
    "\n",
    "    X_train_input = np.concatenate((X_train_input_hr, X_train_input_ol), axis=1)\n",
    "    X_train_input_list.append(X_train_input)\n",
    "\n",
    "    # Get test hidden representation from HiCo layer i-1\n",
    "    X_test_input_hr = []\n",
    "    X_test_input_ol = []\n",
    "    for k in range(NUM_CONNECTION[i]):\n",
    "      get_input = (K.function(hico_layers[i-1][hico_layers[i][j][1][k]][0].layers[0].input, hico_layers[i-1][hico_layers[i][j][1][k]][0].layers[1].output))\n",
    "      X_test_input_hr.append(get_input(get_previous_layer_input(hico_layers, i-1, hico_layers[i-1][hico_layers[i][j][1][k]], X_test_cropped_list)))\n",
    "    X_test_input_hr = np.array(X_test_input_hr)\n",
    "    X_test_input_hr = np.sum(X_test_input_hr, axis=0)\n",
    "\n",
    "    for k in range(NUM_CONNECTION[i]):\n",
    "      get_input = (K.function(hico_layers[i-1][hico_layers[i][j][1][k]][0].layers[0].input, hico_layers[i-1][hico_layers[i][j][1][k]][0].layers[2].output))\n",
    "      X_test_input_ol.append(get_input(get_previous_layer_input(hico_layers, i-1, hico_layers[i-1][hico_layers[i][j][1][k]], X_test_cropped_list)))\n",
    "    X_test_input_ol = np.array(X_test_input_ol)\n",
    "    X_test_input_ol = np.concatenate(X_test_input_ol, axis=1)\n",
    "\n",
    "    X_test_input = np.concatenate((X_test_input_hr, X_test_input_ol), axis=1)\n",
    "    X_test_input_list.append(X_test_input)\n",
    "\n",
    "  #train model of HiCo layer i\n",
    "  for j in range(NUM_TN[i]):\n",
    "    print('Model %d' %j)\n",
    "    hico_layers[i][j][0].fit(X_train_input_list[j], y_train_one_hot, validation_data=(X_test_input_list[j], y_test_one_hot), epochs=5, batch_size=128)"
   ]
  },
  {
   "cell_type": "markdown",
   "metadata": {},
   "source": [
    "# Model Evaluation"
   ]
  },
  {
   "cell_type": "code",
   "execution_count": 11,
   "metadata": {
    "execution": {
     "iopub.execute_input": "2021-07-12T18:21:42.430012Z",
     "iopub.status.busy": "2021-07-12T18:21:42.429762Z",
     "iopub.status.idle": "2021-07-12T18:22:12.296559Z",
     "shell.execute_reply": "2021-07-12T18:22:12.295707Z",
     "shell.execute_reply.started": "2021-07-12T18:21:42.429987Z"
    }
   },
   "outputs": [],
   "source": [
    "# Predict on test image\n",
    "y_pred_list = []\n",
    "for j in range(NUM_TN[0]):\n",
    "  y_pred = np.argmax(hico_layers[0][j][0].predict(X_test_cropped_list[j]), axis=1)\n",
    "  y_pred_list.append(y_pred)\n",
    "\n",
    "for i in range(1, NUM_HICO_LAYER):\n",
    "  for j in range(NUM_TN[i]):\n",
    "\n",
    "    # Get test hidden representation from HiCo layer i-1\n",
    "    X_test_input_hr = []\n",
    "    X_test_input_ol = []\n",
    "    for k in range(NUM_CONNECTION[i]):\n",
    "      get_input = (K.function(hico_layers[i-1][hico_layers[i][j][1][k]][0].layers[0].input, hico_layers[i-1][hico_layers[i][j][1][k]][0].layers[1].output))\n",
    "      X_test_input_hr.append(get_input(get_previous_layer_input(hico_layers, i-1, hico_layers[i-1][hico_layers[i][j][1][k]], X_test_cropped_list)))\n",
    "    X_test_input_hr = np.array(X_test_input_hr)\n",
    "    X_test_input_hr = np.sum(X_test_input_hr, axis=0)\n",
    "\n",
    "    for k in range(NUM_CONNECTION[i]):\n",
    "      get_input = (K.function(hico_layers[i-1][hico_layers[i][j][1][k]][0].layers[0].input, hico_layers[i-1][hico_layers[i][j][1][k]][0].layers[2].output))\n",
    "      X_test_input_ol.append(get_input(get_previous_layer_input(hico_layers, i-1, hico_layers[i-1][hico_layers[i][j][1][k]], X_test_cropped_list)))\n",
    "    X_test_input_ol = np.array(X_test_input_ol)\n",
    "    X_test_input_ol = np.concatenate(X_test_input_ol, axis=1)\n",
    "\n",
    "    X_test_input = np.concatenate((X_test_input_hr, X_test_input_ol), axis=1)\n",
    "\n",
    "    y_pred = np.argmax(hico_layers[i][j][0].predict(X_test_input), axis=1)\n",
    "    y_pred_list.append(y_pred)\n",
    "\n",
    "# HiCo voting (mode)\n",
    "y_pred_list = np.array(y_pred_list)\n",
    "y_pred_list = np.transpose(y_pred_list, (1, 0))\n",
    "y_pred_list = stats.mode(y_pred_list, axis=1)[0]\n",
    "y_pred_list = np.squeeze(y_pred_list)"
   ]
  },
  {
   "cell_type": "code",
   "execution_count": 12,
   "metadata": {
    "execution": {
     "iopub.execute_input": "2021-07-12T18:22:12.298420Z",
     "iopub.status.busy": "2021-07-12T18:22:12.298093Z",
     "iopub.status.idle": "2021-07-12T18:22:12.301763Z",
     "shell.execute_reply": "2021-07-12T18:22:12.300986Z",
     "shell.execute_reply.started": "2021-07-12T18:22:12.298382Z"
    }
   },
   "outputs": [],
   "source": [
    "y_test = np.argmax(y_test_one_hot, axis=1)"
   ]
  },
  {
   "cell_type": "code",
   "execution_count": 13,
   "metadata": {
    "execution": {
     "iopub.execute_input": "2021-07-12T18:22:12.303561Z",
     "iopub.status.busy": "2021-07-12T18:22:12.303076Z",
     "iopub.status.idle": "2021-07-12T18:22:12.319727Z",
     "shell.execute_reply": "2021-07-12T18:22:12.318721Z",
     "shell.execute_reply.started": "2021-07-12T18:22:12.303526Z"
    }
   },
   "outputs": [
    {
     "data": {
      "text/plain": [
       "0.45958429561200925"
      ]
     },
     "execution_count": 13,
     "metadata": {},
     "output_type": "execute_result"
    }
   ],
   "source": [
    "accuracy = accuracy_score(y_test, y_pred_list)\n",
    "accuracy"
   ]
  },
  {
   "cell_type": "code",
   "execution_count": null,
   "metadata": {},
   "outputs": [],
   "source": []
  }
 ],
 "metadata": {
  "kernelspec": {
   "display_name": "Python 3",
   "language": "python",
   "name": "python3"
  },
  "language_info": {
   "codemirror_mode": {
    "name": "ipython",
    "version": 3
   },
   "file_extension": ".py",
   "mimetype": "text/x-python",
   "name": "python",
   "nbconvert_exporter": "python",
   "pygments_lexer": "ipython3",
   "version": "3.8.5"
  }
 },
 "nbformat": 4,
 "nbformat_minor": 4
}
