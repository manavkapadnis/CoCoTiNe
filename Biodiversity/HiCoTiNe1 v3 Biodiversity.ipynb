{
 "cells": [
  {
   "cell_type": "markdown",
   "metadata": {},
   "source": [
    "# Variants-Experiment 3.1, 3.2, 3.3.1, 3.3.2. Adapted from HiCoTiNe v2.1\n",
    "## Concatenated hidden representations.\n",
    "### No raw input¶"
   ]
  },
  {
   "cell_type": "code",
   "execution_count": 1,
   "metadata": {
    "execution": {
     "iopub.execute_input": "2021-07-12T18:34:34.048574Z",
     "iopub.status.busy": "2021-07-12T18:34:34.048171Z",
     "iopub.status.idle": "2021-07-12T18:34:38.830466Z",
     "shell.execute_reply": "2021-07-12T18:34:38.829665Z",
     "shell.execute_reply.started": "2021-07-12T18:34:34.048487Z"
    }
   },
   "outputs": [],
   "source": [
    "import tensorflow as tf\n",
    "from tensorflow import keras\n",
    "from keras.models import Sequential\n",
    "from keras.layers import Dense, Conv2D, Flatten, MaxPooling2D\n",
    "from keras.utils import to_categorical\n",
    "import matplotlib.pyplot as plt\n",
    "import numpy as np\n",
    "from os import listdir\n",
    "from os.path import join\n",
    "import cv2\n",
    "import pandas as pd\n",
    "import os\n",
    "import random as rn\n",
    "from scipy import stats\n",
    "from sklearn.preprocessing import OneHotEncoder\n",
    "from sklearn.model_selection import train_test_split\n",
    "from sklearn.metrics import accuracy_score\n",
    "import pickle\n",
    "from keras import backend as K"
   ]
  },
  {
   "cell_type": "code",
   "execution_count": 2,
   "metadata": {
    "execution": {
     "iopub.execute_input": "2021-07-12T18:34:38.832122Z",
     "iopub.status.busy": "2021-07-12T18:34:38.831777Z",
     "iopub.status.idle": "2021-07-12T18:34:38.838618Z",
     "shell.execute_reply": "2021-07-12T18:34:38.837601Z",
     "shell.execute_reply.started": "2021-07-12T18:34:38.832085Z"
    }
   },
   "outputs": [],
   "source": [
    "SEED = 321\n",
    "rn.seed(SEED)\n",
    "np.random.seed(SEED)\n",
    "tf.random.set_seed(SEED)"
   ]
  },
  {
   "cell_type": "code",
   "execution_count": 4,
   "metadata": {
    "execution": {
     "iopub.execute_input": "2021-07-12T18:35:29.768967Z",
     "iopub.status.busy": "2021-07-12T18:35:29.768636Z",
     "iopub.status.idle": "2021-07-12T18:35:29.773796Z",
     "shell.execute_reply": "2021-07-12T18:35:29.772794Z",
     "shell.execute_reply.started": "2021-07-12T18:35:29.768931Z"
    }
   },
   "outputs": [],
   "source": [
    "SUB_REGION_SCALE = 14\n",
    "NUM_HICO_LAYER = 5\n",
    "NUM_TN = [10, 8, 6 , 4, 2]\n",
    "NUM_CONNECTION = [0, 5, 4, 3, 2]\n",
    "ALPHA = 0.1\n",
    "\n",
    "#dataset specific parameters\n",
    "NUM_CLASS = 5"
   ]
  },
  {
   "cell_type": "markdown",
   "metadata": {},
   "source": [
    "## Data Pre-Processing"
   ]
  },
  {
   "cell_type": "code",
   "execution_count": 5,
   "metadata": {
    "execution": {
     "iopub.execute_input": "2021-07-12T18:35:40.138719Z",
     "iopub.status.busy": "2021-07-12T18:35:40.138388Z",
     "iopub.status.idle": "2021-07-12T18:35:42.741875Z",
     "shell.execute_reply": "2021-07-12T18:35:42.741013Z",
     "shell.execute_reply.started": "2021-07-12T18:35:40.138689Z"
    }
   },
   "outputs": [],
   "source": [
    "with open('../input/hicotine1-layer1-biodiversity/fyp/CIFAR-10.pickle', 'rb') as f:\n",
    "    X_train_cropped_list, y_train_one_hot, X_val_cropped_list, y_val_one_hot, X_test_cropped_list, y_test_one_hot, coordinate_list, scale_list = pickle.load(f)"
   ]
  },
  {
   "cell_type": "markdown",
   "metadata": {},
   "source": [
    "## HiCo Layer 1"
   ]
  },
  {
   "cell_type": "code",
   "execution_count": 6,
   "metadata": {
    "execution": {
     "iopub.execute_input": "2021-07-12T18:35:42.743665Z",
     "iopub.status.busy": "2021-07-12T18:35:42.743334Z",
     "iopub.status.idle": "2021-07-12T18:35:45.250371Z",
     "shell.execute_reply": "2021-07-12T18:35:45.249241Z",
     "shell.execute_reply.started": "2021-07-12T18:35:42.743629Z"
    }
   },
   "outputs": [],
   "source": [
    "#build ANN model\n",
    "ensemble = []\n",
    "for i in range(NUM_TN[0]):\n",
    "  model = Sequential()\n",
    "  model.add(Dense(64, activation='relu', input_dim=SUB_REGION_SCALE*SUB_REGION_SCALE*3))\n",
    "  model.add(Dense(64, activation='relu'))\n",
    "  model.add(Dense(NUM_CLASS, activation = 'softmax'))\n",
    "  model.compile(optimizer='adam', loss='categorical_crossentropy', metrics=['accuracy'])\n",
    "  ensemble.append((model, i, coordinate_list[i], scale_list[i]))"
   ]
  },
  {
   "cell_type": "code",
   "execution_count": 7,
   "metadata": {
    "execution": {
     "iopub.execute_input": "2021-07-12T18:35:45.252706Z",
     "iopub.status.busy": "2021-07-12T18:35:45.252118Z",
     "iopub.status.idle": "2021-07-12T18:35:45.597898Z",
     "shell.execute_reply": "2021-07-12T18:35:45.597012Z",
     "shell.execute_reply.started": "2021-07-12T18:35:45.252667Z"
    }
   },
   "outputs": [],
   "source": [
    "for i in range(NUM_TN[0]):\n",
    "  ensemble[i][0].load_weights('../input/hicotine1-layer1-biodiversity/fyp/CIFAR-10_' + str(i) + '.h5')"
   ]
  },
  {
   "cell_type": "code",
   "execution_count": 8,
   "metadata": {
    "execution": {
     "iopub.execute_input": "2021-07-12T18:35:45.600577Z",
     "iopub.status.busy": "2021-07-12T18:35:45.600303Z",
     "iopub.status.idle": "2021-07-12T18:35:45.608601Z",
     "shell.execute_reply": "2021-07-12T18:35:45.607485Z",
     "shell.execute_reply.started": "2021-07-12T18:35:45.600548Z"
    }
   },
   "outputs": [],
   "source": [
    "hico_layers = []\n",
    "hico_layers.append(ensemble)"
   ]
  },
  {
   "cell_type": "code",
   "execution_count": 9,
   "metadata": {
    "execution": {
     "iopub.execute_input": "2021-07-12T18:35:46.138171Z",
     "iopub.status.busy": "2021-07-12T18:35:46.137803Z",
     "iopub.status.idle": "2021-07-12T18:35:46.142174Z",
     "shell.execute_reply": "2021-07-12T18:35:46.141138Z",
     "shell.execute_reply.started": "2021-07-12T18:35:46.138119Z"
    }
   },
   "outputs": [],
   "source": [
    "del hico_layers[1:]"
   ]
  },
  {
   "cell_type": "markdown",
   "metadata": {},
   "source": [
    "## HiCo Layer 2+"
   ]
  },
  {
   "cell_type": "code",
   "execution_count": 10,
   "metadata": {
    "execution": {
     "iopub.execute_input": "2021-07-12T18:36:20.817288Z",
     "iopub.status.busy": "2021-07-12T18:36:20.816810Z",
     "iopub.status.idle": "2021-07-12T18:36:20.829003Z",
     "shell.execute_reply": "2021-07-12T18:36:20.828142Z",
     "shell.execute_reply.started": "2021-07-12T18:36:20.817252Z"
    }
   },
   "outputs": [],
   "source": [
    "# Function to get input of layer i-1\n",
    "def get_previous_layer_input(hico_layers, layer, tn, train_image):\n",
    "  input = []\n",
    "    \n",
    "  if layer == 0:\n",
    "    previous_layer_input = train_image[tn[1]]\n",
    "    return previous_layer_input\n",
    "\n",
    "  elif layer > 0:\n",
    "    for i in range(NUM_CONNECTION[layer]):\n",
    "      get_input = (K.function(hico_layers[layer-1][tn[1][i]][0].layers[0].input, hico_layers[layer-1][tn[1][i]][0].layers[1].output))\n",
    "      input.append(get_input(get_previous_layer_input(hico_layers, layer-1, hico_layers[layer-1][tn[1][i]], train_image)))\n",
    "      \n",
    "    input = np.array(input)\n",
    "    input = np.concatenate(input, axis=1)\n",
    "    previous_layer_input = input\n",
    "    return previous_layer_input"
   ]
  },
  {
   "cell_type": "code",
   "execution_count": 11,
   "metadata": {
    "execution": {
     "iopub.execute_input": "2021-07-12T18:36:32.339735Z",
     "iopub.status.busy": "2021-07-12T18:36:32.339420Z",
     "iopub.status.idle": "2021-07-12T18:37:04.203609Z",
     "shell.execute_reply": "2021-07-12T18:37:04.202779Z",
     "shell.execute_reply.started": "2021-07-12T18:36:32.339705Z"
    }
   },
   "outputs": [
    {
     "name": "stdout",
     "output_type": "stream",
     "text": [
      "Layer 1\n",
      "HICO LENGTH\n",
      "2\n",
      "Model 0\n",
      "Epoch 1/5\n",
      "28/28 [==============================] - 1s 22ms/step - loss: 1.5587 - accuracy: 0.2993 - val_loss: 1.2995 - val_accuracy: 0.4226\n",
      "Epoch 2/5\n",
      "28/28 [==============================] - 0s 4ms/step - loss: 1.2395 - accuracy: 0.4446 - val_loss: 1.2655 - val_accuracy: 0.4527\n",
      "Epoch 3/5\n",
      "28/28 [==============================] - 0s 4ms/step - loss: 1.2379 - accuracy: 0.4746 - val_loss: 1.2649 - val_accuracy: 0.4457\n",
      "Epoch 4/5\n",
      "28/28 [==============================] - 0s 4ms/step - loss: 1.2068 - accuracy: 0.4837 - val_loss: 1.2479 - val_accuracy: 0.4642\n",
      "Epoch 5/5\n",
      "28/28 [==============================] - 0s 4ms/step - loss: 1.1540 - accuracy: 0.4939 - val_loss: 1.2548 - val_accuracy: 0.4550\n",
      "Model 1\n",
      "Epoch 1/5\n",
      "28/28 [==============================] - 1s 9ms/step - loss: 1.5465 - accuracy: 0.2989 - val_loss: 1.3044 - val_accuracy: 0.3972\n",
      "Epoch 2/5\n",
      "28/28 [==============================] - 0s 4ms/step - loss: 1.2366 - accuracy: 0.4505 - val_loss: 1.2675 - val_accuracy: 0.4480\n",
      "Epoch 3/5\n",
      "28/28 [==============================] - 0s 4ms/step - loss: 1.2320 - accuracy: 0.4606 - val_loss: 1.2777 - val_accuracy: 0.4642\n",
      "Epoch 4/5\n",
      "28/28 [==============================] - 0s 4ms/step - loss: 1.2041 - accuracy: 0.4963 - val_loss: 1.2528 - val_accuracy: 0.4527\n",
      "Epoch 5/5\n",
      "28/28 [==============================] - 0s 4ms/step - loss: 1.1502 - accuracy: 0.5042 - val_loss: 1.2661 - val_accuracy: 0.4503\n",
      "Model 2\n",
      "Epoch 1/5\n",
      "28/28 [==============================] - 1s 9ms/step - loss: 1.4771 - accuracy: 0.3506 - val_loss: 1.3064 - val_accuracy: 0.4134\n",
      "Epoch 2/5\n",
      "28/28 [==============================] - 0s 4ms/step - loss: 1.2371 - accuracy: 0.4512 - val_loss: 1.2734 - val_accuracy: 0.4365\n",
      "Epoch 3/5\n",
      "28/28 [==============================] - 0s 4ms/step - loss: 1.2333 - accuracy: 0.4769 - val_loss: 1.2791 - val_accuracy: 0.4503\n",
      "Epoch 4/5\n",
      "28/28 [==============================] - 0s 4ms/step - loss: 1.2149 - accuracy: 0.4752 - val_loss: 1.2588 - val_accuracy: 0.4734\n",
      "Epoch 5/5\n",
      "28/28 [==============================] - 0s 4ms/step - loss: 1.1668 - accuracy: 0.4895 - val_loss: 1.2683 - val_accuracy: 0.4342\n",
      "Model 3\n",
      "Epoch 1/5\n",
      "28/28 [==============================] - 1s 9ms/step - loss: 1.5319 - accuracy: 0.2951 - val_loss: 1.3201 - val_accuracy: 0.3995\n",
      "Epoch 2/5\n",
      "28/28 [==============================] - 0s 4ms/step - loss: 1.2506 - accuracy: 0.4424 - val_loss: 1.2827 - val_accuracy: 0.4388\n",
      "Epoch 3/5\n",
      "28/28 [==============================] - 0s 4ms/step - loss: 1.2362 - accuracy: 0.4730 - val_loss: 1.2808 - val_accuracy: 0.4388\n",
      "Epoch 4/5\n",
      "28/28 [==============================] - 0s 4ms/step - loss: 1.2058 - accuracy: 0.4905 - val_loss: 1.2595 - val_accuracy: 0.4342\n",
      "Epoch 5/5\n",
      "28/28 [==============================] - 0s 4ms/step - loss: 1.1699 - accuracy: 0.4958 - val_loss: 1.2689 - val_accuracy: 0.4527\n",
      "Model 4\n",
      "Epoch 1/5\n",
      "28/28 [==============================] - 1s 9ms/step - loss: 1.5019 - accuracy: 0.3046 - val_loss: 1.3253 - val_accuracy: 0.4203\n",
      "Epoch 2/5\n",
      "28/28 [==============================] - 0s 4ms/step - loss: 1.2382 - accuracy: 0.4488 - val_loss: 1.2825 - val_accuracy: 0.4527\n",
      "Epoch 3/5\n",
      "28/28 [==============================] - 0s 4ms/step - loss: 1.2338 - accuracy: 0.4820 - val_loss: 1.2786 - val_accuracy: 0.4619\n",
      "Epoch 4/5\n",
      "28/28 [==============================] - 0s 4ms/step - loss: 1.1993 - accuracy: 0.4917 - val_loss: 1.2631 - val_accuracy: 0.4642\n",
      "Epoch 5/5\n",
      "28/28 [==============================] - 0s 4ms/step - loss: 1.1634 - accuracy: 0.5066 - val_loss: 1.2679 - val_accuracy: 0.4642\n",
      "Model 5\n",
      "Epoch 1/5\n",
      "28/28 [==============================] - 1s 13ms/step - loss: 1.5359 - accuracy: 0.3011 - val_loss: 1.3107 - val_accuracy: 0.4180\n",
      "Epoch 2/5\n",
      "28/28 [==============================] - 0s 5ms/step - loss: 1.2503 - accuracy: 0.4250 - val_loss: 1.2862 - val_accuracy: 0.4434\n",
      "Epoch 3/5\n",
      "28/28 [==============================] - 0s 6ms/step - loss: 1.2528 - accuracy: 0.4507 - val_loss: 1.3061 - val_accuracy: 0.4480\n",
      "Epoch 4/5\n",
      "28/28 [==============================] - 0s 4ms/step - loss: 1.2327 - accuracy: 0.4706 - val_loss: 1.2595 - val_accuracy: 0.4642\n",
      "Epoch 5/5\n",
      "28/28 [==============================] - 0s 4ms/step - loss: 1.1755 - accuracy: 0.4873 - val_loss: 1.2727 - val_accuracy: 0.4457\n",
      "Model 6\n",
      "Epoch 1/5\n",
      "28/28 [==============================] - 1s 9ms/step - loss: 1.4722 - accuracy: 0.3488 - val_loss: 1.3187 - val_accuracy: 0.4065\n",
      "Epoch 2/5\n",
      "28/28 [==============================] - 0s 4ms/step - loss: 1.2110 - accuracy: 0.4663 - val_loss: 1.2826 - val_accuracy: 0.4457\n",
      "Epoch 3/5\n",
      "28/28 [==============================] - 0s 4ms/step - loss: 1.2123 - accuracy: 0.4735 - val_loss: 1.2975 - val_accuracy: 0.4573\n",
      "Epoch 4/5\n",
      "28/28 [==============================] - 0s 4ms/step - loss: 1.1826 - accuracy: 0.4936 - val_loss: 1.2654 - val_accuracy: 0.4480\n",
      "Epoch 5/5\n",
      "28/28 [==============================] - 0s 4ms/step - loss: 1.1370 - accuracy: 0.5070 - val_loss: 1.2484 - val_accuracy: 0.4527\n",
      "Model 7\n",
      "Epoch 1/5\n",
      "28/28 [==============================] - 1s 9ms/step - loss: 1.4466 - accuracy: 0.3554 - val_loss: 1.3122 - val_accuracy: 0.4273\n",
      "Epoch 2/5\n",
      "28/28 [==============================] - 0s 4ms/step - loss: 1.2321 - accuracy: 0.4509 - val_loss: 1.2619 - val_accuracy: 0.4457\n",
      "Epoch 3/5\n",
      "28/28 [==============================] - 0s 4ms/step - loss: 1.2277 - accuracy: 0.4907 - val_loss: 1.2682 - val_accuracy: 0.4596\n",
      "Epoch 4/5\n",
      "28/28 [==============================] - 0s 4ms/step - loss: 1.2011 - accuracy: 0.4863 - val_loss: 1.2481 - val_accuracy: 0.4642\n",
      "Epoch 5/5\n",
      "28/28 [==============================] - 0s 4ms/step - loss: 1.1608 - accuracy: 0.4975 - val_loss: 1.2456 - val_accuracy: 0.4781\n",
      "Layer 2\n",
      "HICO LENGTH\n",
      "3\n",
      "Model 0\n",
      "Epoch 1/5\n",
      "28/28 [==============================] - 1s 9ms/step - loss: 1.5025 - accuracy: 0.3363 - val_loss: 1.2908 - val_accuracy: 0.4273\n",
      "Epoch 2/5\n",
      "28/28 [==============================] - 0s 4ms/step - loss: 1.1961 - accuracy: 0.4763 - val_loss: 1.2618 - val_accuracy: 0.4550\n",
      "Epoch 3/5\n",
      "28/28 [==============================] - 0s 4ms/step - loss: 1.1926 - accuracy: 0.5076 - val_loss: 1.2607 - val_accuracy: 0.4550\n",
      "Epoch 4/5\n",
      "28/28 [==============================] - 0s 4ms/step - loss: 1.1663 - accuracy: 0.5176 - val_loss: 1.2512 - val_accuracy: 0.4711\n",
      "Epoch 5/5\n",
      "28/28 [==============================] - 0s 4ms/step - loss: 1.1267 - accuracy: 0.5273 - val_loss: 1.2572 - val_accuracy: 0.4573\n",
      "Model 1\n",
      "Epoch 1/5\n",
      "28/28 [==============================] - 1s 9ms/step - loss: 1.5202 - accuracy: 0.3141 - val_loss: 1.2924 - val_accuracy: 0.4273\n",
      "Epoch 2/5\n",
      "28/28 [==============================] - 0s 4ms/step - loss: 1.1926 - accuracy: 0.4934 - val_loss: 1.2618 - val_accuracy: 0.4688\n",
      "Epoch 3/5\n",
      "28/28 [==============================] - 0s 4ms/step - loss: 1.1865 - accuracy: 0.5041 - val_loss: 1.2568 - val_accuracy: 0.4896\n",
      "Epoch 4/5\n",
      "28/28 [==============================] - 0s 4ms/step - loss: 1.1576 - accuracy: 0.5273 - val_loss: 1.2418 - val_accuracy: 0.4711\n",
      "Epoch 5/5\n",
      "28/28 [==============================] - 0s 4ms/step - loss: 1.1145 - accuracy: 0.5282 - val_loss: 1.2444 - val_accuracy: 0.4758\n",
      "Model 2\n",
      "Epoch 1/5\n",
      "28/28 [==============================] - 1s 9ms/step - loss: 1.4744 - accuracy: 0.3500 - val_loss: 1.2750 - val_accuracy: 0.4550\n",
      "Epoch 2/5\n",
      "28/28 [==============================] - 0s 4ms/step - loss: 1.1767 - accuracy: 0.4954 - val_loss: 1.2589 - val_accuracy: 0.4688\n",
      "Epoch 3/5\n",
      "28/28 [==============================] - 0s 4ms/step - loss: 1.1825 - accuracy: 0.4989 - val_loss: 1.2559 - val_accuracy: 0.4550\n",
      "Epoch 4/5\n",
      "28/28 [==============================] - 0s 4ms/step - loss: 1.1580 - accuracy: 0.5306 - val_loss: 1.2463 - val_accuracy: 0.4873\n",
      "Epoch 5/5\n",
      "28/28 [==============================] - 0s 4ms/step - loss: 1.1110 - accuracy: 0.5277 - val_loss: 1.2545 - val_accuracy: 0.4781\n",
      "Model 3\n",
      "Epoch 1/5\n",
      "28/28 [==============================] - 1s 16ms/step - loss: 1.4552 - accuracy: 0.3635 - val_loss: 1.2821 - val_accuracy: 0.4411\n",
      "Epoch 2/5\n",
      "28/28 [==============================] - 0s 4ms/step - loss: 1.1869 - accuracy: 0.4898 - val_loss: 1.2482 - val_accuracy: 0.4665\n",
      "Epoch 3/5\n",
      "28/28 [==============================] - 0s 4ms/step - loss: 1.1872 - accuracy: 0.4923 - val_loss: 1.2414 - val_accuracy: 0.4734\n",
      "Epoch 4/5\n",
      "28/28 [==============================] - 0s 4ms/step - loss: 1.1581 - accuracy: 0.5241 - val_loss: 1.2351 - val_accuracy: 0.4781\n",
      "Epoch 5/5\n",
      "28/28 [==============================] - 0s 4ms/step - loss: 1.1110 - accuracy: 0.5300 - val_loss: 1.2418 - val_accuracy: 0.4850\n",
      "Model 4\n",
      "Epoch 1/5\n",
      "28/28 [==============================] - 1s 9ms/step - loss: 1.4616 - accuracy: 0.3664 - val_loss: 1.2821 - val_accuracy: 0.4434\n",
      "Epoch 2/5\n",
      "28/28 [==============================] - 0s 4ms/step - loss: 1.1944 - accuracy: 0.4854 - val_loss: 1.2500 - val_accuracy: 0.4688\n",
      "Epoch 3/5\n",
      "28/28 [==============================] - 0s 4ms/step - loss: 1.1928 - accuracy: 0.4965 - val_loss: 1.2507 - val_accuracy: 0.4503\n",
      "Epoch 4/5\n",
      "28/28 [==============================] - 0s 4ms/step - loss: 1.1594 - accuracy: 0.5210 - val_loss: 1.2383 - val_accuracy: 0.4919\n",
      "Epoch 5/5\n",
      "28/28 [==============================] - 0s 4ms/step - loss: 1.1138 - accuracy: 0.5250 - val_loss: 1.2396 - val_accuracy: 0.4827\n",
      "Model 5\n",
      "Epoch 1/5\n",
      "28/28 [==============================] - 1s 9ms/step - loss: 1.4569 - accuracy: 0.3800 - val_loss: 1.2947 - val_accuracy: 0.4342\n",
      "Epoch 2/5\n",
      "28/28 [==============================] - 0s 4ms/step - loss: 1.1781 - accuracy: 0.4838 - val_loss: 1.2628 - val_accuracy: 0.4734\n",
      "Epoch 3/5\n",
      "28/28 [==============================] - 0s 4ms/step - loss: 1.1753 - accuracy: 0.5201 - val_loss: 1.2641 - val_accuracy: 0.4596\n",
      "Epoch 4/5\n",
      "28/28 [==============================] - 0s 4ms/step - loss: 1.1541 - accuracy: 0.5210 - val_loss: 1.2572 - val_accuracy: 0.4665\n",
      "Epoch 5/5\n",
      "28/28 [==============================] - 0s 4ms/step - loss: 1.1097 - accuracy: 0.5302 - val_loss: 1.2482 - val_accuracy: 0.4619\n",
      "Layer 3\n",
      "HICO LENGTH\n",
      "4\n",
      "Model 0\n",
      "Epoch 1/5\n",
      "28/28 [==============================] - 1s 9ms/step - loss: 1.4008 - accuracy: 0.4142 - val_loss: 1.2671 - val_accuracy: 0.4550\n",
      "Epoch 2/5\n",
      "28/28 [==============================] - 0s 4ms/step - loss: 1.1468 - accuracy: 0.5070 - val_loss: 1.2483 - val_accuracy: 0.4781\n",
      "Epoch 3/5\n",
      "28/28 [==============================] - 0s 4ms/step - loss: 1.1643 - accuracy: 0.5131 - val_loss: 1.2497 - val_accuracy: 0.4850\n",
      "Epoch 4/5\n",
      "28/28 [==============================] - 0s 4ms/step - loss: 1.1383 - accuracy: 0.5299 - val_loss: 1.2349 - val_accuracy: 0.4804\n",
      "Epoch 5/5\n",
      "28/28 [==============================] - 0s 4ms/step - loss: 1.0884 - accuracy: 0.5409 - val_loss: 1.2495 - val_accuracy: 0.4480\n",
      "Model 1\n",
      "Epoch 1/5\n",
      "28/28 [==============================] - 1s 9ms/step - loss: 1.5136 - accuracy: 0.3792 - val_loss: 1.2606 - val_accuracy: 0.4434\n",
      "Epoch 2/5\n",
      "28/28 [==============================] - 0s 4ms/step - loss: 1.1515 - accuracy: 0.5140 - val_loss: 1.2388 - val_accuracy: 0.4688\n",
      "Epoch 3/5\n",
      "28/28 [==============================] - 0s 4ms/step - loss: 1.1552 - accuracy: 0.5208 - val_loss: 1.2358 - val_accuracy: 0.4457\n",
      "Epoch 4/5\n",
      "28/28 [==============================] - 0s 4ms/step - loss: 1.1272 - accuracy: 0.5506 - val_loss: 1.2391 - val_accuracy: 0.4781\n",
      "Epoch 5/5\n",
      "28/28 [==============================] - 0s 4ms/step - loss: 1.0849 - accuracy: 0.5449 - val_loss: 1.2491 - val_accuracy: 0.4527\n",
      "Model 2\n",
      "Epoch 1/5\n",
      "28/28 [==============================] - 1s 9ms/step - loss: 1.4492 - accuracy: 0.3730 - val_loss: 1.2804 - val_accuracy: 0.4296\n",
      "Epoch 2/5\n",
      "28/28 [==============================] - 0s 4ms/step - loss: 1.1577 - accuracy: 0.5054 - val_loss: 1.2308 - val_accuracy: 0.4758\n",
      "Epoch 3/5\n",
      "28/28 [==============================] - 0s 4ms/step - loss: 1.1536 - accuracy: 0.5217 - val_loss: 1.2273 - val_accuracy: 0.4734\n",
      "Epoch 4/5\n",
      "28/28 [==============================] - 0s 4ms/step - loss: 1.1289 - accuracy: 0.5350 - val_loss: 1.2264 - val_accuracy: 0.4942\n",
      "Epoch 5/5\n",
      "28/28 [==============================] - 0s 4ms/step - loss: 1.0850 - accuracy: 0.5445 - val_loss: 1.2283 - val_accuracy: 0.4758\n",
      "Model 3\n",
      "Epoch 1/5\n",
      "28/28 [==============================] - 1s 9ms/step - loss: 1.4273 - accuracy: 0.3509 - val_loss: 1.2585 - val_accuracy: 0.4503\n",
      "Epoch 2/5\n",
      "28/28 [==============================] - 0s 4ms/step - loss: 1.1537 - accuracy: 0.5111 - val_loss: 1.2319 - val_accuracy: 0.4988\n",
      "Epoch 3/5\n",
      "28/28 [==============================] - 0s 4ms/step - loss: 1.1538 - accuracy: 0.5249 - val_loss: 1.2374 - val_accuracy: 0.4873\n",
      "Epoch 4/5\n",
      "28/28 [==============================] - 0s 4ms/step - loss: 1.1318 - accuracy: 0.5394 - val_loss: 1.2301 - val_accuracy: 0.4988\n",
      "Epoch 5/5\n",
      "28/28 [==============================] - 0s 4ms/step - loss: 1.0860 - accuracy: 0.5481 - val_loss: 1.2409 - val_accuracy: 0.4619\n",
      "Layer 4\n",
      "HICO LENGTH\n",
      "5\n",
      "Model 0\n",
      "Epoch 1/5\n",
      "28/28 [==============================] - 1s 11ms/step - loss: 1.5119 - accuracy: 0.3497 - val_loss: 1.2536 - val_accuracy: 0.4688\n",
      "Epoch 2/5\n",
      "28/28 [==============================] - 0s 4ms/step - loss: 1.1361 - accuracy: 0.5329 - val_loss: 1.2467 - val_accuracy: 0.4896\n",
      "Epoch 3/5\n",
      "28/28 [==============================] - 0s 4ms/step - loss: 1.1371 - accuracy: 0.5355 - val_loss: 1.2502 - val_accuracy: 0.4873\n",
      "Epoch 4/5\n",
      "28/28 [==============================] - 0s 4ms/step - loss: 1.1155 - accuracy: 0.5525 - val_loss: 1.2467 - val_accuracy: 0.4965\n",
      "Epoch 5/5\n",
      "28/28 [==============================] - 0s 4ms/step - loss: 1.0755 - accuracy: 0.5553 - val_loss: 1.2600 - val_accuracy: 0.4711\n",
      "Model 1\n",
      "Epoch 1/5\n",
      "28/28 [==============================] - 1s 9ms/step - loss: 1.3934 - accuracy: 0.3856 - val_loss: 1.2537 - val_accuracy: 0.4734\n",
      "Epoch 2/5\n",
      "28/28 [==============================] - 0s 4ms/step - loss: 1.1302 - accuracy: 0.5334 - val_loss: 1.2430 - val_accuracy: 0.4758\n",
      "Epoch 3/5\n",
      "28/28 [==============================] - 0s 4ms/step - loss: 1.1374 - accuracy: 0.5416 - val_loss: 1.2502 - val_accuracy: 0.4573\n",
      "Epoch 4/5\n",
      "28/28 [==============================] - 0s 4ms/step - loss: 1.1168 - accuracy: 0.5428 - val_loss: 1.2399 - val_accuracy: 0.4873\n",
      "Epoch 5/5\n",
      "28/28 [==============================] - 0s 4ms/step - loss: 1.0735 - accuracy: 0.5492 - val_loss: 1.2501 - val_accuracy: 0.4596\n"
     ]
    }
   ],
   "source": [
    "for i in range(1, NUM_HICO_LAYER):\n",
    "  print('Layer %d' %i)\n",
    "  ensemble = []\n",
    "  X_train_input_list = []\n",
    "  X_test_input_list = []\n",
    "\n",
    "  for j in range(NUM_TN[i]):\n",
    "    # Build model of HiCo layer i\n",
    "    connection = tuple(rn.sample(range(len(hico_layers[i-1])), k=NUM_CONNECTION[i]))\n",
    "    model = Sequential()\n",
    "    model.add(Dense(64, activation='relu', input_dim=64*NUM_CONNECTION[i]))\n",
    "    model.add(Dense(64, activation='relu'))\n",
    "    model.add(Dense(NUM_CLASS, activation = 'softmax'))\n",
    "    model.compile(optimizer='adam', loss='categorical_crossentropy', metrics=['accuracy'])\n",
    "    ensemble.append((model, connection))\n",
    "  hico_layers.append(ensemble)\n",
    "  print('HICO LENGTH')\n",
    "  print(len(hico_layers))\n",
    "\n",
    "  for j in range(NUM_TN[i]):\n",
    "    # Get train hidden representation from HiCo layer i-1\n",
    "    X_train_input = []\n",
    "    for k in range(NUM_CONNECTION[i]):\n",
    "      get_input = (K.function(hico_layers[i-1][hico_layers[i][j][1][k]][0].layers[0].input, hico_layers[i-1][hico_layers[i][j][1][k]][0].layers[1].output))\n",
    "      X_train_input.append(get_input(get_previous_layer_input(hico_layers, i-1, hico_layers[i-1][hico_layers[i][j][1][k]], X_train_cropped_list)))\n",
    "    X_train_input = np.array(X_train_input)\n",
    "    X_train_input = np.concatenate(X_train_input, axis=1)\n",
    "    X_train_input_list.append(X_train_input)\n",
    "\n",
    "    # Get test hidden representation from HiCo layer i-1\n",
    "    X_test_input = []\n",
    "    for k in range(NUM_CONNECTION[i]):\n",
    "      get_input = (K.function(hico_layers[i-1][hico_layers[i][j][1][k]][0].layers[0].input, hico_layers[i-1][hico_layers[i][j][1][k]][0].layers[1].output))\n",
    "      X_test_input.append(get_input(get_previous_layer_input(hico_layers, i-1, hico_layers[i-1][hico_layers[i][j][1][k]], X_test_cropped_list)))\n",
    "    X_test_input = np.array(X_test_input)\n",
    "    X_test_input = np.concatenate(X_test_input, axis=1)\n",
    "    X_test_input_list.append(X_test_input)\n",
    "\n",
    "  #train model of HiCo layer i\n",
    "  for j in range(NUM_TN[i]):\n",
    "    print('Model %d' %j)\n",
    "    hico_layers[i][j][0].fit(X_train_input_list[j], y_train_one_hot, validation_data=(X_test_input_list[j], y_test_one_hot), epochs=5, batch_size=128)"
   ]
  },
  {
   "cell_type": "markdown",
   "metadata": {},
   "source": [
    "# Model Evaluation"
   ]
  },
  {
   "cell_type": "code",
   "execution_count": 12,
   "metadata": {
    "execution": {
     "iopub.execute_input": "2021-07-12T18:37:10.508544Z",
     "iopub.status.busy": "2021-07-12T18:37:10.508226Z",
     "iopub.status.idle": "2021-07-12T18:37:10.512271Z",
     "shell.execute_reply": "2021-07-12T18:37:10.511276Z",
     "shell.execute_reply.started": "2021-07-12T18:37:10.508515Z"
    }
   },
   "outputs": [],
   "source": [
    "y_test = np.argmax(y_test_one_hot, axis=1)"
   ]
  },
  {
   "cell_type": "markdown",
   "metadata": {},
   "source": [
    "### HiCoTiNe1 v3.1\n",
    "cc1. Mode. Compute classifications of all tiny networks, in all HiCo layers, and take the mode as the final classification."
   ]
  },
  {
   "cell_type": "code",
   "execution_count": 13,
   "metadata": {
    "execution": {
     "iopub.execute_input": "2021-07-12T18:37:21.219041Z",
     "iopub.status.busy": "2021-07-12T18:37:21.218661Z",
     "iopub.status.idle": "2021-07-12T18:37:26.728626Z",
     "shell.execute_reply": "2021-07-12T18:37:26.727698Z",
     "shell.execute_reply.started": "2021-07-12T18:37:21.219008Z"
    }
   },
   "outputs": [],
   "source": [
    "# Predict on test image\n",
    "y_pred_list = []\n",
    "for j in range(NUM_TN[0]):\n",
    "  y_pred = np.argmax(hico_layers[0][j][0].predict(X_test_cropped_list[j]), axis=1)\n",
    "  y_pred_list.append(y_pred)\n",
    "\n",
    "for i in range(1, NUM_HICO_LAYER):\n",
    "  for j in range(NUM_TN[i]):\n",
    "\n",
    "    # Get test hidden representation from HiCo layer i-1\n",
    "    X_test_input = []\n",
    "    for k in range(NUM_CONNECTION[i]):\n",
    "      get_input = (K.function(hico_layers[i-1][hico_layers[i][j][1][k]][0].layers[0].input, hico_layers[i-1][hico_layers[i][j][1][k]][0].layers[1].output))\n",
    "      X_test_input.append(get_input(get_previous_layer_input(hico_layers, i-1, hico_layers[i-1][hico_layers[i][j][1][k]], X_test_cropped_list)))\n",
    "    X_test_input = np.array(X_test_input)\n",
    "    X_test_input = np.concatenate(X_test_input, axis=1)\n",
    "    y_pred = np.argmax(hico_layers[i][j][0].predict(X_test_input), axis=1)\n",
    "    y_pred_list.append(y_pred)\n",
    "\n",
    "# HiCo voting\n",
    "y_pred_list = np.array(y_pred_list)\n",
    "y_pred_list = np.transpose(y_pred_list, (1, 0))\n",
    "y_pred_list = stats.mode(y_pred_list, axis=1)[0]\n",
    "y_pred_list = np.squeeze(y_pred_list)"
   ]
  },
  {
   "cell_type": "code",
   "execution_count": 14,
   "metadata": {
    "execution": {
     "iopub.execute_input": "2021-07-12T18:37:26.735655Z",
     "iopub.status.busy": "2021-07-12T18:37:26.733325Z",
     "iopub.status.idle": "2021-07-12T18:37:26.751087Z",
     "shell.execute_reply": "2021-07-12T18:37:26.750021Z",
     "shell.execute_reply.started": "2021-07-12T18:37:26.735611Z"
    }
   },
   "outputs": [
    {
     "data": {
      "text/plain": [
       "0.4665127020785219"
      ]
     },
     "execution_count": 14,
     "metadata": {},
     "output_type": "execute_result"
    }
   ],
   "source": [
    "accuracy = accuracy_score(y_test, y_pred_list)\n",
    "accuracy"
   ]
  },
  {
   "cell_type": "markdown",
   "metadata": {},
   "source": [
    "### HiCoTiNe v3.2\n",
    "cc2. Sum the logits of all TNs. Take the max logit as the final classification."
   ]
  },
  {
   "cell_type": "code",
   "execution_count": 15,
   "metadata": {
    "execution": {
     "iopub.execute_input": "2021-07-12T18:37:37.834732Z",
     "iopub.status.busy": "2021-07-12T18:37:37.834320Z",
     "iopub.status.idle": "2021-07-12T18:37:42.140875Z",
     "shell.execute_reply": "2021-07-12T18:37:42.140004Z",
     "shell.execute_reply.started": "2021-07-12T18:37:37.834693Z"
    }
   },
   "outputs": [],
   "source": [
    "# Predict on test image\n",
    "y_pred_list = []\n",
    "for j in range(NUM_TN[0]):\n",
    "  y_pred = hico_layers[0][j][0].predict(X_test_cropped_list[j])\n",
    "  y_pred_list.append(y_pred)\n",
    "\n",
    "for i in range(1, NUM_HICO_LAYER):\n",
    "  for j in range(NUM_TN[i]):\n",
    "\n",
    "    # Get test hidden representation from HiCo layer i-1\n",
    "    X_test_input = []\n",
    "    for k in range(NUM_CONNECTION[i]):\n",
    "      get_input = (K.function(hico_layers[i-1][hico_layers[i][j][1][k]][0].layers[0].input, hico_layers[i-1][hico_layers[i][j][1][k]][0].layers[1].output))\n",
    "      X_test_input.append(get_input(get_previous_layer_input(hico_layers, i-1, hico_layers[i-1][hico_layers[i][j][1][k]], X_test_cropped_list)))\n",
    "    X_test_input = np.array(X_test_input)\n",
    "    X_test_input = np.concatenate(X_test_input, axis=1)\n",
    "    y_pred = hico_layers[i][j][0].predict(X_test_input)\n",
    "    y_pred_list.append(y_pred)\n",
    "\n",
    "# HiCo voting\n",
    "y_pred_list = np.array(y_pred_list)\n",
    "y_pred_list = np.transpose(y_pred_list, (1, 0, 2))\n",
    "y_pred_list = np.argmax(np.sum(y_pred_list, axis=1), axis=1)"
   ]
  },
  {
   "cell_type": "code",
   "execution_count": 16,
   "metadata": {
    "execution": {
     "iopub.execute_input": "2021-07-12T18:37:42.142750Z",
     "iopub.status.busy": "2021-07-12T18:37:42.142379Z",
     "iopub.status.idle": "2021-07-12T18:37:42.149781Z",
     "shell.execute_reply": "2021-07-12T18:37:42.148759Z",
     "shell.execute_reply.started": "2021-07-12T18:37:42.142713Z"
    }
   },
   "outputs": [
    {
     "data": {
      "text/plain": [
       "0.46882217090069284"
      ]
     },
     "execution_count": 16,
     "metadata": {},
     "output_type": "execute_result"
    }
   ],
   "source": [
    "accuracy = accuracy_score(y_test, y_pred_list)\n",
    "accuracy"
   ]
  },
  {
   "cell_type": "markdown",
   "metadata": {},
   "source": [
    "### HiCoTiNe v3.3.1\n",
    "cc3. Weighted function. Compute classifications (votes) of all tiny networks, in all HiCo layers. Compute weight of each classifier/vote. Compute weighted sum of votes. Weights can be computed in different ways, e.g.:\n",
    "- cc3w1. The weight of each classifier/TN is inversely proportional to the number of TNs in its HiCo layer, relative to the HiCo layer with the most TNs. E.g. if n is the number of TNs in the layer with the most TNs, then compute v/n for each layer, where v is the number of TNs in each layer; then compute the weight of each layer as (1+alpha)-(v/n), where alpha is some small threshold; and finally define the weight of each TN as the weight of its layer.\n"
   ]
  },
  {
   "cell_type": "code",
   "execution_count": 17,
   "metadata": {
    "execution": {
     "iopub.execute_input": "2021-07-12T18:37:55.818354Z",
     "iopub.status.busy": "2021-07-12T18:37:55.817989Z",
     "iopub.status.idle": "2021-07-12T18:38:00.614061Z",
     "shell.execute_reply": "2021-07-12T18:38:00.613221Z",
     "shell.execute_reply.started": "2021-07-12T18:37:55.818325Z"
    }
   },
   "outputs": [],
   "source": [
    "# Predict on test image\n",
    "y_pred_list = []\n",
    "for j in range(NUM_TN[0]):\n",
    "  y_pred = hico_layers[0][j][0].predict(X_test_cropped_list[j])\n",
    "  y_pred = y_pred * ((1 + ALPHA) - (NUM_TN[0] / max(NUM_TN)))\n",
    "  y_pred_list.append(y_pred)\n",
    "\n",
    "for i in range(1, NUM_HICO_LAYER):\n",
    "  for j in range(NUM_TN[i]):\n",
    "\n",
    "    # Get test hidden representation from HiCo layer i-1\n",
    "    X_test_input = []\n",
    "    for k in range(NUM_CONNECTION[i]):\n",
    "      get_input = (K.function(hico_layers[i-1][hico_layers[i][j][1][k]][0].layers[0].input, hico_layers[i-1][hico_layers[i][j][1][k]][0].layers[1].output))\n",
    "      X_test_input.append(get_input(get_previous_layer_input(hico_layers, i-1, hico_layers[i-1][hico_layers[i][j][1][k]], X_test_cropped_list)))\n",
    "    X_test_input = np.array(X_test_input)\n",
    "    X_test_input = np.concatenate(X_test_input, axis=1)\n",
    "    y_pred = hico_layers[i][j][0].predict(X_test_input)\n",
    "    y_pred = y_pred * ((1 + ALPHA) - (NUM_TN[i] / max(NUM_TN)))\n",
    "    y_pred_list.append(y_pred)\n",
    "\n",
    "\n",
    "# HiCo voting\n",
    "y_pred_list = np.array(y_pred_list)\n",
    "y_pred_list = np.transpose(y_pred_list, (1, 0, 2))\n",
    "y_pred_list = np.argmax(np.sum(y_pred_list, axis=1), axis=1)"
   ]
  },
  {
   "cell_type": "code",
   "execution_count": 18,
   "metadata": {
    "execution": {
     "iopub.execute_input": "2021-07-12T18:38:00.615894Z",
     "iopub.status.busy": "2021-07-12T18:38:00.615558Z",
     "iopub.status.idle": "2021-07-12T18:38:00.622147Z",
     "shell.execute_reply": "2021-07-12T18:38:00.621324Z",
     "shell.execute_reply.started": "2021-07-12T18:38:00.615858Z"
    }
   },
   "outputs": [
    {
     "data": {
      "text/plain": [
       "0.47344110854503463"
      ]
     },
     "execution_count": 18,
     "metadata": {},
     "output_type": "execute_result"
    }
   ],
   "source": [
    "accuracy = accuracy_score(y_test, y_pred_list)\n",
    "accuracy"
   ]
  },
  {
   "cell_type": "markdown",
   "metadata": {},
   "source": [
    "### HiCoTiNe v3.3.2\n",
    "cc3. Weighted function. Compute classifications (votes) of all tiny networks, in all HiCo layers. Compute weight of each classifier/vote. Compute weighted sum of votes. Weights can be computed in different ways, e.g.:\n",
    "- cc3w2. The weight of each classifier is directly proportional to the depth of the HiCo layer within which it resides. \n"
   ]
  },
  {
   "cell_type": "code",
   "execution_count": 19,
   "metadata": {
    "execution": {
     "iopub.execute_input": "2021-07-12T18:38:09.338463Z",
     "iopub.status.busy": "2021-07-12T18:38:09.338115Z",
     "iopub.status.idle": "2021-07-12T18:38:13.583860Z",
     "shell.execute_reply": "2021-07-12T18:38:13.582875Z",
     "shell.execute_reply.started": "2021-07-12T18:38:09.338434Z"
    }
   },
   "outputs": [],
   "source": [
    "# Predict on test image\n",
    "y_pred_list = []\n",
    "for j in range(NUM_TN[0]):\n",
    "  y_pred = hico_layers[0][j][0].predict(X_test_cropped_list[j])\n",
    "  y_pred = y_pred * (1 / NUM_HICO_LAYER)\n",
    "  y_pred_list.append(y_pred)\n",
    "\n",
    "for i in range(1, NUM_HICO_LAYER):\n",
    "  for j in range(NUM_TN[i]):\n",
    "\n",
    "    # Get test hidden representation from HiCo layer i-1\n",
    "    X_test_input = []\n",
    "    for k in range(NUM_CONNECTION[i]):\n",
    "      get_input = (K.function(hico_layers[i-1][hico_layers[i][j][1][k]][0].layers[0].input, hico_layers[i-1][hico_layers[i][j][1][k]][0].layers[1].output))\n",
    "      X_test_input.append(get_input(get_previous_layer_input(hico_layers, i-1, hico_layers[i-1][hico_layers[i][j][1][k]], X_test_cropped_list)))\n",
    "    X_test_input = np.array(X_test_input)\n",
    "    X_test_input = np.concatenate(X_test_input, axis=1)\n",
    "    y_pred = hico_layers[i][j][0].predict(X_test_input)\n",
    "    y_pred = y_pred * (i / NUM_HICO_LAYER)\n",
    "    y_pred_list.append(y_pred)\n",
    "\n",
    "# HiCo voting\n",
    "y_pred_list = np.array(y_pred_list)\n",
    "y_pred_list = np.transpose(y_pred_list, (1, 0, 2))\n",
    "y_pred_list = np.argmax(np.sum(y_pred_list, axis=1), axis=1)"
   ]
  },
  {
   "cell_type": "code",
   "execution_count": 20,
   "metadata": {
    "execution": {
     "iopub.execute_input": "2021-07-12T18:38:13.585681Z",
     "iopub.status.busy": "2021-07-12T18:38:13.585346Z",
     "iopub.status.idle": "2021-07-12T18:38:13.597172Z",
     "shell.execute_reply": "2021-07-12T18:38:13.596194Z",
     "shell.execute_reply.started": "2021-07-12T18:38:13.585647Z"
    }
   },
   "outputs": [
    {
     "data": {
      "text/plain": [
       "0.4780600461893764"
      ]
     },
     "execution_count": 20,
     "metadata": {},
     "output_type": "execute_result"
    }
   ],
   "source": [
    "accuracy = accuracy_score(y_test, y_pred_list)\n",
    "accuracy"
   ]
  },
  {
   "cell_type": "code",
   "execution_count": null,
   "metadata": {},
   "outputs": [],
   "source": []
  }
 ],
 "metadata": {
  "kernelspec": {
   "display_name": "Python 3",
   "language": "python",
   "name": "python3"
  },
  "language_info": {
   "codemirror_mode": {
    "name": "ipython",
    "version": 3
   },
   "file_extension": ".py",
   "mimetype": "text/x-python",
   "name": "python",
   "nbconvert_exporter": "python",
   "pygments_lexer": "ipython3",
   "version": "3.8.5"
  }
 },
 "nbformat": 4,
 "nbformat_minor": 4
}
