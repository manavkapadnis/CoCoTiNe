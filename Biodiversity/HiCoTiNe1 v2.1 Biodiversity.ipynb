{
 "cells": [
  {
   "cell_type": "markdown",
   "metadata": {},
   "source": [
    "# Variants-Experiment 2.1. Adapted from HiCoTiNe v1.1\n",
    "\n",
    "## Concatenated hidden representations.\n",
    "## No raw input\n",
    "## Mode. Compute classifications of all tiny networks, in all HiCo layers, and take the mode as the final classification.\n"
   ]
  },
  {
   "cell_type": "code",
   "execution_count": 1,
   "metadata": {
    "execution": {
     "iopub.execute_input": "2021-07-12T18:31:52.840666Z",
     "iopub.status.busy": "2021-07-12T18:31:52.840230Z",
     "iopub.status.idle": "2021-07-12T18:31:57.898899Z",
     "shell.execute_reply": "2021-07-12T18:31:57.898027Z",
     "shell.execute_reply.started": "2021-07-12T18:31:52.840581Z"
    }
   },
   "outputs": [],
   "source": [
    "import tensorflow as tf\n",
    "from tensorflow import keras\n",
    "from keras.models import Sequential\n",
    "from keras.layers import Dense, Conv2D, Flatten, MaxPooling2D\n",
    "from keras.utils import to_categorical\n",
    "import matplotlib.pyplot as plt\n",
    "import numpy as np\n",
    "from os import listdir\n",
    "from os.path import join\n",
    "import cv2\n",
    "import pandas as pd\n",
    "import os\n",
    "import random as rn\n",
    "from scipy import stats\n",
    "from sklearn.preprocessing import OneHotEncoder\n",
    "from sklearn.model_selection import train_test_split\n",
    "from sklearn.metrics import accuracy_score\n",
    "import pickle\n",
    "from keras import backend as K"
   ]
  },
  {
   "cell_type": "code",
   "execution_count": 2,
   "metadata": {
    "execution": {
     "iopub.execute_input": "2021-07-12T18:31:57.902785Z",
     "iopub.status.busy": "2021-07-12T18:31:57.902533Z",
     "iopub.status.idle": "2021-07-12T18:31:57.909228Z",
     "shell.execute_reply": "2021-07-12T18:31:57.908291Z",
     "shell.execute_reply.started": "2021-07-12T18:31:57.902760Z"
    }
   },
   "outputs": [],
   "source": [
    "SEED = 321\n",
    "rn.seed(SEED)\n",
    "np.random.seed(SEED)\n",
    "tf.random.set_seed(SEED)"
   ]
  },
  {
   "cell_type": "code",
   "execution_count": 3,
   "metadata": {
    "execution": {
     "iopub.execute_input": "2021-07-12T18:31:57.913160Z",
     "iopub.status.busy": "2021-07-12T18:31:57.912874Z",
     "iopub.status.idle": "2021-07-12T18:31:57.922431Z",
     "shell.execute_reply": "2021-07-12T18:31:57.921642Z",
     "shell.execute_reply.started": "2021-07-12T18:31:57.913134Z"
    }
   },
   "outputs": [],
   "source": [
    "SUB_REGION_SCALE = 14\n",
    "NUM_HICO_LAYER = 3\n",
    "NUM_TN = [10, 4, 2]\n",
    "NUM_CONNECTION = [0, 2, 2]\n",
    "\n",
    "#dataset specific parameters\n",
    "NUM_CLASS = 5"
   ]
  },
  {
   "cell_type": "markdown",
   "metadata": {},
   "source": [
    "## Data Pre-Processing"
   ]
  },
  {
   "cell_type": "code",
   "execution_count": 4,
   "metadata": {
    "execution": {
     "iopub.execute_input": "2021-07-12T18:31:57.925943Z",
     "iopub.status.busy": "2021-07-12T18:31:57.925660Z",
     "iopub.status.idle": "2021-07-12T18:31:59.793083Z",
     "shell.execute_reply": "2021-07-12T18:31:59.792175Z",
     "shell.execute_reply.started": "2021-07-12T18:31:57.925919Z"
    }
   },
   "outputs": [],
   "source": [
    "with open('../input/hicotine1-layer1-biodiversity/fyp/CIFAR-10.pickle', 'rb') as f:\n",
    "    X_train_cropped_list, y_train_one_hot, X_val_cropped_list, y_val_one_hot, X_test_cropped_list, y_test_one_hot, coordinate_list, scale_list = pickle.load(f)"
   ]
  },
  {
   "cell_type": "markdown",
   "metadata": {},
   "source": [
    "## HiCo Layer 1"
   ]
  },
  {
   "cell_type": "code",
   "execution_count": 5,
   "metadata": {
    "execution": {
     "iopub.execute_input": "2021-07-12T18:31:59.796679Z",
     "iopub.status.busy": "2021-07-12T18:31:59.796402Z",
     "iopub.status.idle": "2021-07-12T18:32:01.999260Z",
     "shell.execute_reply": "2021-07-12T18:32:01.998419Z",
     "shell.execute_reply.started": "2021-07-12T18:31:59.796653Z"
    }
   },
   "outputs": [],
   "source": [
    "#build ANN model\n",
    "ensemble = []\n",
    "for i in range(NUM_TN[0]):\n",
    "  model = Sequential()\n",
    "  model.add(Dense(64, activation='relu', input_dim=SUB_REGION_SCALE*SUB_REGION_SCALE*3))\n",
    "  model.add(Dense(64, activation='relu'))\n",
    "  model.add(Dense(NUM_CLASS, activation = 'softmax'))\n",
    "  model.compile(optimizer='adam', loss='categorical_crossentropy', metrics=['accuracy'])\n",
    "  ensemble.append((model, i, coordinate_list[i], scale_list[i]))"
   ]
  },
  {
   "cell_type": "code",
   "execution_count": 6,
   "metadata": {
    "execution": {
     "iopub.execute_input": "2021-07-12T18:32:02.000993Z",
     "iopub.status.busy": "2021-07-12T18:32:02.000661Z",
     "iopub.status.idle": "2021-07-12T18:32:02.186704Z",
     "shell.execute_reply": "2021-07-12T18:32:02.185828Z",
     "shell.execute_reply.started": "2021-07-12T18:32:02.000960Z"
    }
   },
   "outputs": [],
   "source": [
    "for i in range(NUM_TN[0]):\n",
    "  ensemble[i][0].load_weights('../input/hicotine1-layer1-biodiversity/fyp/CIFAR-10_' + str(i) + '.h5')"
   ]
  },
  {
   "cell_type": "code",
   "execution_count": 7,
   "metadata": {
    "execution": {
     "iopub.execute_input": "2021-07-12T18:32:02.188351Z",
     "iopub.status.busy": "2021-07-12T18:32:02.187993Z",
     "iopub.status.idle": "2021-07-12T18:32:02.195624Z",
     "shell.execute_reply": "2021-07-12T18:32:02.194790Z",
     "shell.execute_reply.started": "2021-07-12T18:32:02.188316Z"
    }
   },
   "outputs": [],
   "source": [
    "hico_layers = []\n",
    "hico_layers.append(ensemble)"
   ]
  },
  {
   "cell_type": "code",
   "execution_count": 8,
   "metadata": {
    "execution": {
     "iopub.execute_input": "2021-07-12T18:32:02.197472Z",
     "iopub.status.busy": "2021-07-12T18:32:02.197035Z",
     "iopub.status.idle": "2021-07-12T18:32:02.204873Z",
     "shell.execute_reply": "2021-07-12T18:32:02.204102Z",
     "shell.execute_reply.started": "2021-07-12T18:32:02.197434Z"
    }
   },
   "outputs": [],
   "source": [
    "del hico_layers[1:]"
   ]
  },
  {
   "cell_type": "markdown",
   "metadata": {},
   "source": [
    "## HiCo Layer 2+"
   ]
  },
  {
   "cell_type": "code",
   "execution_count": 9,
   "metadata": {
    "execution": {
     "iopub.execute_input": "2021-07-12T18:32:02.207938Z",
     "iopub.status.busy": "2021-07-12T18:32:02.207640Z",
     "iopub.status.idle": "2021-07-12T18:32:02.216433Z",
     "shell.execute_reply": "2021-07-12T18:32:02.215410Z",
     "shell.execute_reply.started": "2021-07-12T18:32:02.207913Z"
    }
   },
   "outputs": [],
   "source": [
    "# Function to get input of layer i-1\n",
    "def get_previous_layer_input(hico_layers, layer, tn, train_image):\n",
    "  input = []\n",
    "    \n",
    "  if layer == 0:\n",
    "    previous_layer_input = train_image[tn[1]]\n",
    "    return previous_layer_input\n",
    "\n",
    "  elif layer > 0:\n",
    "    for i in range(NUM_CONNECTION[layer]):\n",
    "      get_input = (K.function(hico_layers[layer-1][tn[1][i]][0].layers[0].input, hico_layers[layer-1][tn[1][i]][0].layers[1].output))\n",
    "      input.append(get_input(get_previous_layer_input(hico_layers, layer-1, hico_layers[layer-1][tn[1][i]], train_image)))\n",
    "      \n",
    "    input = np.array(input)\n",
    "    input = np.concatenate(input, axis=1)\n",
    "    previous_layer_input = input\n",
    "    return previous_layer_input"
   ]
  },
  {
   "cell_type": "code",
   "execution_count": 10,
   "metadata": {
    "execution": {
     "iopub.execute_input": "2021-07-12T18:32:02.218931Z",
     "iopub.status.busy": "2021-07-12T18:32:02.218446Z",
     "iopub.status.idle": "2021-07-12T18:32:10.350222Z",
     "shell.execute_reply": "2021-07-12T18:32:10.349390Z",
     "shell.execute_reply.started": "2021-07-12T18:32:02.218894Z"
    }
   },
   "outputs": [
    {
     "name": "stdout",
     "output_type": "stream",
     "text": [
      "Layer 1\n",
      "HICO LENGTH\n",
      "2\n",
      "Model 0\n",
      "Epoch 1/5\n",
      "28/28 [==============================] - 1s 21ms/step - loss: 1.6717 - accuracy: 0.2661 - val_loss: 1.3450 - val_accuracy: 0.3949\n",
      "Epoch 2/5\n",
      "28/28 [==============================] - 0s 4ms/step - loss: 1.2905 - accuracy: 0.4300 - val_loss: 1.3005 - val_accuracy: 0.4134\n",
      "Epoch 3/5\n",
      "28/28 [==============================] - 0s 4ms/step - loss: 1.2749 - accuracy: 0.4389 - val_loss: 1.2823 - val_accuracy: 0.4457\n",
      "Epoch 4/5\n",
      "28/28 [==============================] - 0s 4ms/step - loss: 1.2408 - accuracy: 0.4624 - val_loss: 1.2759 - val_accuracy: 0.4480\n",
      "Epoch 5/5\n",
      "28/28 [==============================] - 0s 4ms/step - loss: 1.2044 - accuracy: 0.4734 - val_loss: 1.2780 - val_accuracy: 0.4342\n",
      "Model 1\n",
      "Epoch 1/5\n",
      "28/28 [==============================] - 1s 9ms/step - loss: 1.5049 - accuracy: 0.3422 - val_loss: 1.3335 - val_accuracy: 0.4134\n",
      "Epoch 2/5\n",
      "28/28 [==============================] - 0s 4ms/step - loss: 1.2672 - accuracy: 0.4294 - val_loss: 1.2954 - val_accuracy: 0.4319\n",
      "Epoch 3/5\n",
      "28/28 [==============================] - 0s 7ms/step - loss: 1.2577 - accuracy: 0.4605 - val_loss: 1.2831 - val_accuracy: 0.4480\n",
      "Epoch 4/5\n",
      "28/28 [==============================] - 0s 6ms/step - loss: 1.2293 - accuracy: 0.4770 - val_loss: 1.2684 - val_accuracy: 0.4527\n",
      "Epoch 5/5\n",
      "28/28 [==============================] - 0s 5ms/step - loss: 1.1818 - accuracy: 0.4830 - val_loss: 1.2757 - val_accuracy: 0.4365\n",
      "Model 2\n",
      "Epoch 1/5\n",
      "28/28 [==============================] - 1s 8ms/step - loss: 1.4430 - accuracy: 0.3523 - val_loss: 1.2961 - val_accuracy: 0.4088\n",
      "Epoch 2/5\n",
      "28/28 [==============================] - 0s 4ms/step - loss: 1.2479 - accuracy: 0.4488 - val_loss: 1.2724 - val_accuracy: 0.4480\n",
      "Epoch 3/5\n",
      "28/28 [==============================] - 0s 4ms/step - loss: 1.2515 - accuracy: 0.4783 - val_loss: 1.2717 - val_accuracy: 0.4480\n",
      "Epoch 4/5\n",
      "28/28 [==============================] - 0s 4ms/step - loss: 1.2252 - accuracy: 0.4707 - val_loss: 1.2577 - val_accuracy: 0.4573\n",
      "Epoch 5/5\n",
      "28/28 [==============================] - 0s 3ms/step - loss: 1.1875 - accuracy: 0.4912 - val_loss: 1.2645 - val_accuracy: 0.4388\n",
      "Model 3\n",
      "Epoch 1/5\n",
      "28/28 [==============================] - 1s 8ms/step - loss: 1.5165 - accuracy: 0.3094 - val_loss: 1.3504 - val_accuracy: 0.4018\n",
      "Epoch 2/5\n",
      "28/28 [==============================] - 0s 4ms/step - loss: 1.2678 - accuracy: 0.4300 - val_loss: 1.3229 - val_accuracy: 0.4088\n",
      "Epoch 3/5\n",
      "28/28 [==============================] - 0s 4ms/step - loss: 1.2696 - accuracy: 0.4426 - val_loss: 1.3303 - val_accuracy: 0.4296\n",
      "Epoch 4/5\n",
      "28/28 [==============================] - 0s 4ms/step - loss: 1.2419 - accuracy: 0.4526 - val_loss: 1.3083 - val_accuracy: 0.4342\n",
      "Epoch 5/5\n",
      "28/28 [==============================] - 0s 3ms/step - loss: 1.2061 - accuracy: 0.4619 - val_loss: 1.3122 - val_accuracy: 0.4249\n",
      "Layer 2\n",
      "HICO LENGTH\n",
      "3\n",
      "Model 0\n",
      "Epoch 1/5\n",
      "28/28 [==============================] - 1s 9ms/step - loss: 1.6457 - accuracy: 0.2760 - val_loss: 1.3250 - val_accuracy: 0.3995\n",
      "Epoch 2/5\n",
      "28/28 [==============================] - 0s 4ms/step - loss: 1.2393 - accuracy: 0.4636 - val_loss: 1.2909 - val_accuracy: 0.4342\n",
      "Epoch 3/5\n",
      "28/28 [==============================] - 0s 4ms/step - loss: 1.2381 - accuracy: 0.4670 - val_loss: 1.2825 - val_accuracy: 0.4503\n",
      "Epoch 4/5\n",
      "28/28 [==============================] - 0s 4ms/step - loss: 1.2083 - accuracy: 0.4844 - val_loss: 1.2725 - val_accuracy: 0.4619\n",
      "Epoch 5/5\n",
      "28/28 [==============================] - 0s 4ms/step - loss: 1.1734 - accuracy: 0.4922 - val_loss: 1.2778 - val_accuracy: 0.4342\n",
      "Model 1\n",
      "Epoch 1/5\n",
      "28/28 [==============================] - 1s 8ms/step - loss: 1.4947 - accuracy: 0.3197 - val_loss: 1.3096 - val_accuracy: 0.4273\n",
      "Epoch 2/5\n",
      "28/28 [==============================] - 0s 4ms/step - loss: 1.2162 - accuracy: 0.4753 - val_loss: 1.2937 - val_accuracy: 0.4434\n",
      "Epoch 3/5\n",
      "28/28 [==============================] - 0s 4ms/step - loss: 1.2349 - accuracy: 0.4678 - val_loss: 1.2972 - val_accuracy: 0.4365\n",
      "Epoch 4/5\n",
      "28/28 [==============================] - 0s 4ms/step - loss: 1.2128 - accuracy: 0.4733 - val_loss: 1.2824 - val_accuracy: 0.4527\n",
      "Epoch 5/5\n",
      "28/28 [==============================] - 0s 7ms/step - loss: 1.1685 - accuracy: 0.4866 - val_loss: 1.2952 - val_accuracy: 0.4319\n"
     ]
    }
   ],
   "source": [
    "for i in range(1, NUM_HICO_LAYER):\n",
    "  print('Layer %d' %i)\n",
    "  ensemble = []\n",
    "  X_train_input_list = []\n",
    "  X_test_input_list = []\n",
    "\n",
    "  for j in range(NUM_TN[i]):\n",
    "    # Build model of HiCo layer i\n",
    "    connection = tuple(rn.sample(range(len(hico_layers[i-1])), k=NUM_CONNECTION[i]))\n",
    "    model = Sequential()\n",
    "    model.add(Dense(64, activation='relu', input_dim=64*NUM_CONNECTION[i]))\n",
    "    model.add(Dense(64, activation='relu'))\n",
    "    model.add(Dense(NUM_CLASS, activation = 'softmax'))\n",
    "    model.compile(optimizer='adam', loss='categorical_crossentropy', metrics=['accuracy'])\n",
    "    ensemble.append((model, connection))\n",
    "  hico_layers.append(ensemble)\n",
    "  print('HICO LENGTH')\n",
    "  print(len(hico_layers))\n",
    "\n",
    "  for j in range(NUM_TN[i]):\n",
    "    # Get train hidden representation from HiCo layer i-1\n",
    "    X_train_input = []\n",
    "    for k in range(NUM_CONNECTION[i]):\n",
    "      get_input = (K.function(hico_layers[i-1][hico_layers[i][j][1][k]][0].layers[0].input, hico_layers[i-1][hico_layers[i][j][1][k]][0].layers[1].output))\n",
    "      X_train_input.append(get_input(get_previous_layer_input(hico_layers, i-1, hico_layers[i-1][hico_layers[i][j][1][k]], X_train_cropped_list)))\n",
    "    X_train_input = np.array(X_train_input)\n",
    "    X_train_input = np.concatenate(X_train_input, axis=1)\n",
    "    X_train_input_list.append(X_train_input)\n",
    "\n",
    "    # Get test hidden representation from HiCo layer i-1\n",
    "    X_test_input = []\n",
    "    for k in range(NUM_CONNECTION[i]):\n",
    "      get_input = (K.function(hico_layers[i-1][hico_layers[i][j][1][k]][0].layers[0].input, hico_layers[i-1][hico_layers[i][j][1][k]][0].layers[1].output))\n",
    "      X_test_input.append(get_input(get_previous_layer_input(hico_layers, i-1, hico_layers[i-1][hico_layers[i][j][1][k]], X_test_cropped_list)))\n",
    "    X_test_input = np.array(X_test_input)\n",
    "    X_test_input = np.concatenate(X_test_input, axis=1)\n",
    "    X_test_input_list.append(X_test_input)\n",
    "\n",
    "  #train model of HiCo layer i\n",
    "  for j in range(NUM_TN[i]):\n",
    "    print('Model %d' %j)\n",
    "    hico_layers[i][j][0].fit(X_train_input_list[j], y_train_one_hot, validation_data=(X_test_input_list[j], y_test_one_hot), epochs=5, batch_size=128)"
   ]
  },
  {
   "cell_type": "markdown",
   "metadata": {},
   "source": [
    "# Model Evaluation"
   ]
  },
  {
   "cell_type": "code",
   "execution_count": 11,
   "metadata": {
    "execution": {
     "iopub.execute_input": "2021-07-12T18:32:10.352444Z",
     "iopub.status.busy": "2021-07-12T18:32:10.351871Z",
     "iopub.status.idle": "2021-07-12T18:32:11.778896Z",
     "shell.execute_reply": "2021-07-12T18:32:11.778092Z",
     "shell.execute_reply.started": "2021-07-12T18:32:10.352397Z"
    }
   },
   "outputs": [],
   "source": [
    "# Predict on test image\n",
    "y_pred_list = []\n",
    "for j in range(NUM_TN[0]):\n",
    "  y_pred = np.argmax(hico_layers[0][j][0].predict(X_test_cropped_list[j]), axis=1)\n",
    "  y_pred_list.append(y_pred)\n",
    "\n",
    "for i in range(1, NUM_HICO_LAYER):\n",
    "  for j in range(NUM_TN[i]):\n",
    "\n",
    "    # Get test hidden representation from HiCo layer i-1\n",
    "    X_test_input = []\n",
    "    for k in range(NUM_CONNECTION[i]):\n",
    "      get_input = (K.function(hico_layers[i-1][hico_layers[i][j][1][k]][0].layers[0].input, hico_layers[i-1][hico_layers[i][j][1][k]][0].layers[1].output))\n",
    "      X_test_input.append(get_input(get_previous_layer_input(hico_layers, i-1, hico_layers[i-1][hico_layers[i][j][1][k]], X_test_cropped_list)))\n",
    "    X_test_input = np.array(X_test_input)\n",
    "    X_test_input = np.concatenate(X_test_input, axis=1)\n",
    "    y_pred = np.argmax(hico_layers[i][j][0].predict(X_test_input), axis=1)\n",
    "    y_pred_list.append(y_pred)\n",
    "\n",
    "# HiCo voting (mode)\n",
    "y_pred_list = np.array(y_pred_list)\n",
    "y_pred_list = np.transpose(y_pred_list, (1, 0))\n",
    "y_pred_list = stats.mode(y_pred_list, axis=1)[0]\n",
    "y_pred_list = np.squeeze(y_pred_list)"
   ]
  },
  {
   "cell_type": "code",
   "execution_count": 12,
   "metadata": {
    "execution": {
     "iopub.execute_input": "2021-07-12T18:32:11.780555Z",
     "iopub.status.busy": "2021-07-12T18:32:11.780214Z",
     "iopub.status.idle": "2021-07-12T18:32:11.784494Z",
     "shell.execute_reply": "2021-07-12T18:32:11.783703Z",
     "shell.execute_reply.started": "2021-07-12T18:32:11.780521Z"
    }
   },
   "outputs": [],
   "source": [
    "y_test = np.argmax(y_test_one_hot, axis=1)"
   ]
  },
  {
   "cell_type": "code",
   "execution_count": 13,
   "metadata": {
    "execution": {
     "iopub.execute_input": "2021-07-12T18:32:11.786310Z",
     "iopub.status.busy": "2021-07-12T18:32:11.785761Z",
     "iopub.status.idle": "2021-07-12T18:32:11.804663Z",
     "shell.execute_reply": "2021-07-12T18:32:11.803837Z",
     "shell.execute_reply.started": "2021-07-12T18:32:11.786275Z"
    }
   },
   "outputs": [
    {
     "data": {
      "text/plain": [
       "0.4387990762124711"
      ]
     },
     "execution_count": 13,
     "metadata": {},
     "output_type": "execute_result"
    }
   ],
   "source": [
    "accuracy = accuracy_score(y_test, y_pred_list)\n",
    "accuracy"
   ]
  },
  {
   "cell_type": "code",
   "execution_count": null,
   "metadata": {},
   "outputs": [],
   "source": []
  }
 ],
 "metadata": {
  "kernelspec": {
   "display_name": "Python 3",
   "language": "python",
   "name": "python3"
  },
  "language_info": {
   "codemirror_mode": {
    "name": "ipython",
    "version": 3
   },
   "file_extension": ".py",
   "mimetype": "text/x-python",
   "name": "python",
   "nbconvert_exporter": "python",
   "pygments_lexer": "ipython3",
   "version": "3.8.5"
  }
 },
 "nbformat": 4,
 "nbformat_minor": 4
}
